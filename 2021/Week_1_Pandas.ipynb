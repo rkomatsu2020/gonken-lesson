{
 "cells": [
  {
   "cell_type": "markdown",
   "metadata": {},
   "source": [
    "# Pandas"
   ]
  },
  {
   "cell_type": "markdown",
   "metadata": {},
   "source": [
    "# Key commands\n",
    "\n",
    "===========================================\n",
    "\n",
    "### pandas.Series \n",
    "class pandas.Series(data=None, index=None, dtype=None, name=None, copy=False, fastpath=False)\n",
    "\n",
    "### pandas.DataFrame.values\n",
    "\n",
    "### pandas.Index\n",
    "class pandas.Index(data=None, dtype=None, copy=False, name=None, tupleize_cols=True, **kwargs)\n",
    "\n",
    "### pandas.DataFrame.describe \n",
    "DataFrame.describe(percentiles=None, include=None, exclude=None, datetime_is_numeric=False)\n",
    "\n",
    "### pandas.DataFrame.append \n",
    "\n",
    "DataFrame.append(other, ignore_index=False, verify_integrity=False, sort=False)\n",
    "\n",
    "### pandas.isnull\n",
    "pandas.isnull(obj)\n",
    "\n",
    "### pandas.notnull \n",
    "pandas.notnull(obj)\n",
    "\n",
    "### pandas.DataFrame.drop \n",
    "DataFrame.drop(labels=None, axis=0, index=None, columns=None, level=None, inplace=False, errors='raise') \n",
    "\n",
    "### pandas.get_dummies \n",
    "pandas.get_dummies(data, prefix=None, prefix_sep='_', dummy_na=False, columns=None, sparse=False, drop_first=False, dtype=None)\n",
    "\n",
    "### pandas.DataFrame\n",
    "class pandas.DataFrame(data=None, index=None, columns=None, dtype=None, copy=False)\n",
    "\n",
    "### pandas.DataFrame.loc\n",
    "### pandas.DataFrame.iloc\n",
    "\n",
    "### pandas.DataFrame.drop \n",
    "DataFrame.drop(labels=None, axis=0, index=None, columns=None, level=None, inplace=False, errors='raise')\n",
    "\n",
    " \n",
    "### pandas.DataFrame.apply\n",
    "DataFrame.apply(func, axis=0, raw=False, result_type=None, args=(), **kwds)\n",
    "\n",
    "### pandas.DataFrame.transform\n",
    "DataFrame.transform(func, axis=0, *args, **kwargs)\n",
    "\n",
    "### pandas.concat\n",
    "pandas.concat(objs: Union[Iterable[‘DataFrame’], Mapping[Label, ‘DataFrame’]], axis='0', join: str = \"'outer'\", ignore_index: bool = 'False', keys='None', levels='None', names='None', verify_integrity: bool = 'False', sort: bool = 'False', copy: bool = 'True') → ’DataFrame’\n",
    "\n",
    "### pandas.DataFrame.drop_duplicates\n",
    "DataFrame.drop_duplicates(subset=None, keep='first', inplace=False, ignore_index=False)[source]\n",
    "\n",
    "### pandas.cut\n",
    "pandas.cut(x, bins, right=True, labels=None, retbins=False, precision=3, include_lowest=False, duplicates='raise', ordered=True)\n",
    "\n",
    "### pandas.read_csv\n",
    "pandas.read_csv(filepath_or_buffer, sep=',', delimiter=None, header='infer', names=None, index_col=None, usecols=None, squeeze=False, prefix=None, mangle_dupe_cols=True, dtype=None, engine=None, converters=None, true_values=None, false_values=None, skipinitialspace=False, skiprows=None, skipfooter=0, nrows=None, na_values=None, keep_default_na=True, na_filter=True, verbose=False, skip_blank_lines=True, parse_dates=False, infer_datetime_format=False, keep_date_col=False, date_parser=None, dayfirst=False, cache_dates=True, iterator=False, chunksize=None, compression='infer', thousands=None, decimal='.', lineterminator=None, quotechar='\"', quoting=0, doublequote=True, escapechar=None, comment=None, encoding=None, dialect=None, error_bad_lines=True, warn_bad_lines=True, delim_whitespace=False, low_memory=True, memory_map=False, float_precision=None)\n",
    "\n",
    "\n",
    "### pandas.DataFrame.head\n",
    "DataFrame.head(n=5)\n",
    "\n",
    "### pandas.DataFrame.tail\n",
    "DataFrame.tail(n=5)\n",
    "\n",
    "### pandas.DataFrame.count\n",
    "DataFrame.count(axis=0, level=None, numeric_only=False)\n",
    "\n",
    "### pandas.Series.value_counts\n",
    "Series.value_counts(normalize=False, sort=True, ascending=False, bins=None, dropna=True)\n",
    "\n",
    "### sort_values()\n",
    "DataFrame.sort_values(by, axis=0, ascending=True, inplace=False, kind='quicksort', na_position='last', ignore_index=False, key=None)\n",
    "\n",
    "### pandas.DataFrame.groupby\n",
    "DataFrame.groupby(by=None, axis=0, level=None, as_index=True, sort=True, group_keys=True, squeeze=<object object>, observed=False, dropna=True) \n",
    "\n",
    "    "
   ]
  },
  {
   "cell_type": "markdown",
   "metadata": {},
   "source": [
    "### pandas.DataFrame.agg\n",
    "DataFrame.agg(func=None, axis=0, *args, **kwargs)\n",
    "\n",
    "### pandas.DataFrame.to_csv\n",
    "\n",
    "### pivot_table()\n",
    "DataFrame.to_csv(path_or_buf=None, sep=',', na_rep='', float_format=None, columns=None, header=True, index=True, index_label=None, mode='w', encoding=None, compression='infer', quoting=None, quotechar='\"', line_terminator=None, chunksize=None, date_format=None, doublequote=True, escapechar=None, decimal='.', errors='strict')\n",
    "\n",
    "### pandas.DataFrame.unstack\n",
    "DataFrame.unstack(level=- 1, fill_value=None)\n",
    "\n",
    "### pandas.DataFrame.stack\n",
    "DataFrame.stack(level=- 1, dropna=True) \n",
    "\n",
    "### pandas.DataFrame.fillna\n",
    "DataFrame.fillna(value=None, method=None, axis=None, inplace=False, limit=None, downcast=None) \n",
    "\n",
    "=================================================\n"
   ]
  },
  {
   "cell_type": "markdown",
   "metadata": {},
   "source": [
    "## Pandas version\n",
    "check Pandas version"
   ]
  },
  {
   "cell_type": "code",
   "execution_count": 2,
   "metadata": {},
   "outputs": [
    {
     "name": "stdout",
     "output_type": "stream",
     "text": [
      "------------\n",
      "pd.__version__\n",
      "0.23.4\n"
     ]
    }
   ],
   "source": [
    "import numpy as np\n",
    "import pandas as pd\n",
    "print(\"------------\")\n",
    "print(\"pd.__version__\")\n",
    "print(pd.__version__)"
   ]
  },
  {
   "cell_type": "markdown",
   "metadata": {},
   "source": [
    "# 1. pandas.Series\n",
    "Series is a one-dimensional labeled array capable of holding any data type (integers, strings, floating point numbers,\n",
    "Python objects, etc.). The axis labels are collectively referred to as the index. The basic method to create a Series is\n",
    "to call:\n",
    "\n",
    "s = pd.Series(data, index=index)\n",
    "\n",
    "If data is an ndarray, index must be the same length as data. If no index is passed, one will be created having values\n",
    "[0, ..., len(data) - 1].\n"
   ]
  },
  {
   "cell_type": "markdown",
   "metadata": {},
   "source": [
    "### pd.Series()\n",
    "\n",
    "class pandas.Series(data=None, index=None, dtype=None, name=None, copy=False, fastpath=False)\n",
    "\n",
    "Now let's see how can we creat a Series."
   ]
  },
  {
   "cell_type": "code",
   "execution_count": 84,
   "metadata": {},
   "outputs": [
    {
     "name": "stdout",
     "output_type": "stream",
     "text": [
      "0    0.699722\n",
      "1   -3.045759\n",
      "2   -0.811024\n",
      "3   -0.866802\n",
      "4    0.942031\n",
      "dtype: float64\n"
     ]
    }
   ],
   "source": [
    "a=pd.Series(np.random.randn(5))\n",
    "print(a)"
   ]
  },
  {
   "cell_type": "markdown",
   "metadata": {},
   "source": [
    "And id we want to create the index with specific name"
   ]
  },
  {
   "cell_type": "code",
   "execution_count": 17,
   "metadata": {},
   "outputs": [
    {
     "name": "stdout",
     "output_type": "stream",
     "text": [
      "a    0.999152\n",
      "b   -1.533479\n",
      "c    1.580864\n",
      "d    1.769873\n",
      "e   -0.047858\n",
      "dtype: float64\n"
     ]
    }
   ],
   "source": [
    "s=pd.Series(np.random.randn(5),index=[\"a\",\"b\",\"c\",\"d\",\"e\"])\n",
    "print(s)"
   ]
  },
  {
   "cell_type": "markdown",
   "metadata": {},
   "source": [
    "### pandas.DataFrame.values\n",
    "\"values\" can let us check the value part."
   ]
  },
  {
   "cell_type": "code",
   "execution_count": 83,
   "metadata": {},
   "outputs": [
    {
     "ename": "NameError",
     "evalue": "name 's' is not defined",
     "output_type": "error",
     "traceback": [
      "\u001b[1;31m---------------------------------------------------------------------------\u001b[0m",
      "\u001b[1;31mNameError\u001b[0m                                 Traceback (most recent call last)",
      "\u001b[1;32m<ipython-input-83-151237e5a35d>\u001b[0m in \u001b[0;36m<module>\u001b[1;34m\u001b[0m\n\u001b[1;32m----> 1\u001b[1;33m \u001b[0mprint\u001b[0m\u001b[1;33m(\u001b[0m\u001b[0ms\u001b[0m\u001b[1;33m.\u001b[0m\u001b[0mvalues\u001b[0m\u001b[1;33m)\u001b[0m\u001b[1;33m\u001b[0m\u001b[1;33m\u001b[0m\u001b[0m\n\u001b[0m",
      "\u001b[1;31mNameError\u001b[0m: name 's' is not defined"
     ]
    }
   ],
   "source": [
    "print(s.values)"
   ]
  },
  {
   "cell_type": "markdown",
   "metadata": {},
   "source": [
    "### pandas.Index\n",
    "class pandas.Index(data=None, dtype=None, copy=False, name=None, tupleize_cols=True, **kwargs)\n",
    "\n",
    "Similarly, \"s.index\" can let us check only the index part."
   ]
  },
  {
   "cell_type": "code",
   "execution_count": 15,
   "metadata": {},
   "outputs": [
    {
     "name": "stdout",
     "output_type": "stream",
     "text": [
      "Index(['a', 'b', 'c', 'd', 'e'], dtype='object')\n"
     ]
    }
   ],
   "source": [
    "print(s.index)"
   ]
  },
  {
   "cell_type": "markdown",
   "metadata": {},
   "source": [
    "And if we want to change the index. "
   ]
  },
  {
   "cell_type": "code",
   "execution_count": 16,
   "metadata": {},
   "outputs": [
    {
     "name": "stdout",
     "output_type": "stream",
     "text": [
      "one      0.315705\n",
      "two     -0.103835\n",
      "three   -1.033987\n",
      "four    -0.511883\n",
      "five     0.887529\n",
      "dtype: float64\n"
     ]
    }
   ],
   "source": [
    "s.index=[\"one\",\"two\",\"three\",\"four\",\"five\"]\n",
    "print(s)"
   ]
  },
  {
   "cell_type": "markdown",
   "metadata": {},
   "source": [
    "### pd.Series(Dictionary)\n",
    "We can also create a Series by using dictionary of Python."
   ]
  },
  {
   "cell_type": "code",
   "execution_count": 85,
   "metadata": {},
   "outputs": [
    {
     "name": "stdout",
     "output_type": "stream",
     "text": [
      "a    1\n",
      "b    2\n",
      "c    3\n",
      "d    4\n",
      "e    5\n",
      "dtype: int64\n"
     ]
    }
   ],
   "source": [
    "Dict={\"a\":1,\"b\":2,\"c\":3,\"d\":4,\"e\":5}\n",
    "temp=pd.Series(Dict)\n",
    "print(temp)"
   ]
  },
  {
   "cell_type": "markdown",
   "metadata": {},
   "source": [
    "### pandas.DataFrame.describe \n",
    "DataFrame.describe(percentiles=None, include=None, exclude=None, datetime_is_numeric=False)\n",
    "\n",
    "describe() can tell you the basic information about the Series or Dataframe, where \"count\" means the number of the datas, \"std\" means mean square error(平均二乗誤差), 25% means the quantile(分位) of the first 25% data, similarly, 50% means the quantile of the first 50% data."
   ]
  },
  {
   "cell_type": "code",
   "execution_count": 29,
   "metadata": {},
   "outputs": [
    {
     "name": "stdout",
     "output_type": "stream",
     "text": [
      "count    5.000000\n",
      "mean     3.000000\n",
      "std      1.581139\n",
      "min      1.000000\n",
      "25%      2.000000\n",
      "50%      3.000000\n",
      "75%      4.000000\n",
      "max      5.000000\n",
      "dtype: float64\n"
     ]
    }
   ],
   "source": [
    "print(temp.describe())"
   ]
  },
  {
   "cell_type": "markdown",
   "metadata": {},
   "source": [
    "### Basic operation on Series\n",
    "Now let's see another example."
   ]
  },
  {
   "cell_type": "code",
   "execution_count": 32,
   "metadata": {},
   "outputs": [
    {
     "name": "stdout",
     "output_type": "stream",
     "text": [
      "Tokyo         10000.0\n",
      "NY             9000.0\n",
      "London        12000.0\n",
      "Dezhou         1200.0\n",
      "Birmingham        NaN\n",
      "Name: price, dtype: float64\n"
     ]
    }
   ],
   "source": [
    "cities={\"Tokyo\":10000,\"NY\":9000,\"London\":12000,\"Dezhou\":1200,\"Birmingham\":None}\n",
    "apts=pd.Series(cities,name=\"price\")\n",
    "print(apts)"
   ]
  },
  {
   "cell_type": "markdown",
   "metadata": {},
   "source": [
    "We can give the series a name by using \"name=\".\n",
    "And if we want to indicate a specific element in the Series. "
   ]
  },
  {
   "cell_type": "code",
   "execution_count": 33,
   "metadata": {},
   "outputs": [
    {
     "name": "stdout",
     "output_type": "stream",
     "text": [
      "10000.0\n"
     ]
    }
   ],
   "source": [
    "print(apts[0])"
   ]
  },
  {
   "cell_type": "markdown",
   "metadata": {},
   "source": [
    "The operation on the Series is similar to the operation on the list or numpy.array. So if we want to change the value of an element, for example, change the value of \"Tokyo\" from 10000 to 20000."
   ]
  },
  {
   "cell_type": "code",
   "execution_count": 34,
   "metadata": {},
   "outputs": [
    {
     "name": "stdout",
     "output_type": "stream",
     "text": [
      "Tokyo         20000.0\n",
      "NY             9000.0\n",
      "London        12000.0\n",
      "Dezhou         1200.0\n",
      "Birmingham        NaN\n",
      "Name: price, dtype: float64\n"
     ]
    }
   ],
   "source": [
    "apts[\"Tokyo\"]=20000#\n",
    "print(apts)"
   ]
  },
  {
   "cell_type": "markdown",
   "metadata": {},
   "source": [
    "And we can access the arbitrary number of elements with arbitrary sequency."
   ]
  },
  {
   "cell_type": "code",
   "execution_count": 35,
   "metadata": {},
   "outputs": [
    {
     "name": "stdout",
     "output_type": "stream",
     "text": [
      "Dezhou         1200.0\n",
      "Tokyo         20000.0\n",
      "Birmingham        NaN\n",
      "Name: price, dtype: float64\n"
     ]
    }
   ],
   "source": [
    "print(apts[[\"Dezhou\",\"Tokyo\",\"Birmingham\"]])"
   ]
  },
  {
   "cell_type": "code",
   "execution_count": 36,
   "metadata": {},
   "outputs": [
    {
     "name": "stdout",
     "output_type": "stream",
     "text": [
      "Dezhou     1200.0\n",
      "Tokyo     20000.0\n",
      "London    12000.0\n",
      "Name: price, dtype: float64\n"
     ]
    }
   ],
   "source": [
    "print(apts[[3,0,2]]) #Index starts from 0"
   ]
  },
  {
   "cell_type": "markdown",
   "metadata": {},
   "source": [
    "### pandas.DataFrame.append \n",
    "DataFrame.append(other, ignore_index=False, verify_integrity=False, sort=False)\n",
    "\n",
    "If we want to conbine two Series together"
   ]
  },
  {
   "cell_type": "code",
   "execution_count": 38,
   "metadata": {},
   "outputs": [
    {
     "name": "stdout",
     "output_type": "stream",
     "text": [
      "0    a\n",
      "1    b\n",
      "2    c\n",
      "dtype: object\n",
      "0    w\n",
      "1    x\n",
      "2    y\n",
      "3    z\n",
      "dtype: object\n"
     ]
    }
   ],
   "source": [
    "s1=pd.Series([\"a\",\"b\",\"c\"])\n",
    "s2=pd.Series([\"w\",\"x\",\"y\",\"z\"])\n",
    "print(s1)\n",
    "print(s2)"
   ]
  },
  {
   "cell_type": "code",
   "execution_count": 39,
   "metadata": {},
   "outputs": [
    {
     "name": "stdout",
     "output_type": "stream",
     "text": [
      "0    a\n",
      "1    b\n",
      "2    c\n",
      "0    w\n",
      "1    x\n",
      "2    y\n",
      "3    z\n",
      "dtype: object\n"
     ]
    }
   ],
   "source": [
    "s3=s1.append(s2)\n",
    "print(s3)"
   ]
  },
  {
   "cell_type": "markdown",
   "metadata": {},
   "source": [
    "We can see that, the indexs from the previous Series are remained in s3. If we want to ignore these old index and creat the new index, we can do by using \"ignore_index=True\""
   ]
  },
  {
   "cell_type": "code",
   "execution_count": 40,
   "metadata": {},
   "outputs": [
    {
     "name": "stdout",
     "output_type": "stream",
     "text": [
      "0    a\n",
      "1    b\n",
      "2    c\n",
      "3    w\n",
      "4    x\n",
      "5    y\n",
      "6    z\n",
      "dtype: object\n"
     ]
    }
   ],
   "source": [
    "s4=s1.append(s2,ignore_index=True)\n",
    "print(s4)"
   ]
  },
  {
   "cell_type": "markdown",
   "metadata": {},
   "source": [
    "### Operations on the lables\n",
    "And we can do operation on the lables in the Series, just like the operations on the list or array."
   ]
  },
  {
   "cell_type": "code",
   "execution_count": 41,
   "metadata": {},
   "outputs": [
    {
     "name": "stdout",
     "output_type": "stream",
     "text": [
      "Tokyo         10000.0\n",
      "NY             9000.0\n",
      "London        12000.0\n",
      "Dezhou         1200.0\n",
      "Birmingham        NaN\n",
      "Name: price, dtype: float64\n"
     ]
    }
   ],
   "source": [
    "cities={\"Tokyo\":10000,\"NY\":9000,\"London\":12000,\"Dezhou\":1200,\"Birmingham\":None}\n",
    "apts=pd.Series(cities,name=\"price\")\n",
    "print(apts)"
   ]
  },
  {
   "cell_type": "code",
   "execution_count": 42,
   "metadata": {},
   "outputs": [
    {
     "name": "stdout",
     "output_type": "stream",
     "text": [
      "Tokyo         30000.0\n",
      "NY            27000.0\n",
      "London        36000.0\n",
      "Dezhou         3600.0\n",
      "Birmingham        NaN\n",
      "Name: price, dtype: float64\n"
     ]
    }
   ],
   "source": [
    "print(apts*3)"
   ]
  },
  {
   "cell_type": "code",
   "execution_count": 43,
   "metadata": {},
   "outputs": [
    {
     "name": "stdout",
     "output_type": "stream",
     "text": [
      "Tokyo          True\n",
      "NY            False\n",
      "London         True\n",
      "Dezhou        False\n",
      "Birmingham    False\n",
      "Name: price, dtype: bool\n"
     ]
    }
   ],
   "source": [
    "print(apts>apts.median())"
   ]
  },
  {
   "cell_type": "code",
   "execution_count": 44,
   "metadata": {},
   "outputs": [
    {
     "name": "stdout",
     "output_type": "stream",
     "text": [
      "Tokyo     10000.0\n",
      "London    12000.0\n",
      "Name: price, dtype: float64\n"
     ]
    }
   ],
   "source": [
    "print(apts[apts>apts.median()])"
   ]
  },
  {
   "cell_type": "markdown",
   "metadata": {},
   "source": [
    "### Numpy operation on Series\n",
    "Also, we can apply the numpy operation directly on the Series. "
   ]
  },
  {
   "cell_type": "code",
   "execution_count": 52,
   "metadata": {},
   "outputs": [],
   "source": [
    "a1=pd.Series([4,-9,16,-25],index=[\"a\",\"b\",\"c\",\"d\"])\n",
    "b1=np.square(a1)\n",
    "c1=np.abs(a1)"
   ]
  },
  {
   "cell_type": "code",
   "execution_count": 48,
   "metadata": {},
   "outputs": [
    {
     "name": "stdout",
     "output_type": "stream",
     "text": [
      "a     4\n",
      "b    -9\n",
      "c    16\n",
      "d   -25\n",
      "dtype: int64\n"
     ]
    }
   ],
   "source": [
    "print(a1)"
   ]
  },
  {
   "cell_type": "code",
   "execution_count": 53,
   "metadata": {},
   "outputs": [
    {
     "name": "stdout",
     "output_type": "stream",
     "text": [
      "a     16\n",
      "b     81\n",
      "c    256\n",
      "d    625\n",
      "dtype: int64\n"
     ]
    }
   ],
   "source": [
    "print(b1)"
   ]
  },
  {
   "cell_type": "code",
   "execution_count": 54,
   "metadata": {},
   "outputs": [
    {
     "name": "stdout",
     "output_type": "stream",
     "text": [
      "a     4\n",
      "b     9\n",
      "c    16\n",
      "d    25\n",
      "dtype: int64\n"
     ]
    }
   ],
   "source": [
    "print(c1)"
   ]
  },
  {
   "cell_type": "markdown",
   "metadata": {},
   "source": [
    "### Series Slicing(スライス)"
   ]
  },
  {
   "cell_type": "code",
   "execution_count": 55,
   "metadata": {},
   "outputs": [
    {
     "name": "stdout",
     "output_type": "stream",
     "text": [
      "b    -9\n",
      "c    16\n",
      "dtype: int64\n"
     ]
    }
   ],
   "source": [
    "a=pd.Series([4,-9,16,-25],index=[\"a\",\"b\",\"c\",\"d\"])\n",
    "print(a[1:3]) # 3 is not counted"
   ]
  },
  {
   "cell_type": "code",
   "execution_count": 56,
   "metadata": {},
   "outputs": [
    {
     "name": "stdout",
     "output_type": "stream",
     "text": [
      "a     4\n",
      "b    -9\n",
      "c    16\n",
      "dtype: int64\n"
     ]
    }
   ],
   "source": [
    "print(a[\"a\":\"c\"]) # differ to the number, is you cut the series with index, \"c\" is counted"
   ]
  },
  {
   "cell_type": "markdown",
   "metadata": {},
   "source": [
    "### pandas.isnull & pandas.notnull \n",
    "pandas.isnull(obj)\n",
    "\n",
    "pandas.notnull(obj)\n",
    "\n",
    "isnull() Detect missing values for an array-like object.\n",
    "\n",
    "This function takes a scalar or array-like object and indicates whether values are missing (NaN in numeric arrays.\n",
    "\n",
    "notnull(), on the contrary,Detect non-missing values for an array-like object.\n",
    "\n",
    "This function takes a scalar or array-like object and indicates whether values are valid (not missing, which is NaN in numeric arrays, None or NaN in object arrays, NaT in datetimelike)."
   ]
  },
  {
   "cell_type": "code",
   "execution_count": 58,
   "metadata": {},
   "outputs": [],
   "source": [
    "arr=np.array([1,2,3,np.nan])\n",
    "\n",
    "temp=pd.Series(arr,index=[\"a\",\"b\",\"c\",\"d\"])"
   ]
  },
  {
   "cell_type": "code",
   "execution_count": 59,
   "metadata": {},
   "outputs": [
    {
     "name": "stdout",
     "output_type": "stream",
     "text": [
      "a    1.0\n",
      "b    2.0\n",
      "c    3.0\n",
      "d    NaN\n",
      "dtype: float64\n"
     ]
    }
   ],
   "source": [
    "print(temp)"
   ]
  },
  {
   "cell_type": "code",
   "execution_count": 61,
   "metadata": {},
   "outputs": [
    {
     "name": "stdout",
     "output_type": "stream",
     "text": [
      "a    False\n",
      "b    False\n",
      "c    False\n",
      "d     True\n",
      "dtype: bool\n"
     ]
    }
   ],
   "source": [
    "print(temp.isnull())"
   ]
  },
  {
   "cell_type": "code",
   "execution_count": null,
   "metadata": {},
   "outputs": [],
   "source": [
    "print(temp.notnull())"
   ]
  },
  {
   "cell_type": "markdown",
   "metadata": {},
   "source": [
    "As we can see, insull and notsullbool or array-like of bool,so if we wann to access the specific null or notnull onject:"
   ]
  },
  {
   "cell_type": "code",
   "execution_count": 62,
   "metadata": {},
   "outputs": [
    {
     "name": "stdout",
     "output_type": "stream",
     "text": [
      "d   NaN\n",
      "dtype: float64\n"
     ]
    }
   ],
   "source": [
    "print(temp[temp.isnull()==True])"
   ]
  },
  {
   "cell_type": "code",
   "execution_count": 65,
   "metadata": {},
   "outputs": [
    {
     "name": "stdout",
     "output_type": "stream",
     "text": [
      "a    1.0\n",
      "b    2.0\n",
      "c    3.0\n",
      "dtype: float64\n"
     ]
    }
   ],
   "source": [
    "print(temp[temp.notnull()==True])"
   ]
  },
  {
   "cell_type": "code",
   "execution_count": 64,
   "metadata": {},
   "outputs": [
    {
     "name": "stdout",
     "output_type": "stream",
     "text": [
      "a    1.0\n",
      "b    2.0\n",
      "c    3.0\n",
      "dtype: float64\n"
     ]
    }
   ],
   "source": [
    "print(temp[temp.isnull()==False])"
   ]
  },
  {
   "cell_type": "code",
   "execution_count": null,
   "metadata": {},
   "outputs": [],
   "source": [
    "print(temp[temp.notnull()==False])"
   ]
  },
  {
   "cell_type": "markdown",
   "metadata": {},
   "source": [
    "### pandas.DataFrame.drop \n",
    "DataFrame.drop(labels=None, axis=0, index=None, columns=None, level=None, inplace=False, errors='raise') \n",
    "\n",
    "Return Series with specified index labels removed\n",
    "Remove elements of a Series based on specifying the index labels. When using a multi-index, labels on different levels can be removed by specifying the level."
   ]
  },
  {
   "cell_type": "code",
   "execution_count": 68,
   "metadata": {},
   "outputs": [
    {
     "name": "stdout",
     "output_type": "stream",
     "text": [
      "0     2\n",
      "1     0\n",
      "2    -1\n",
      "3    12\n",
      "dtype: int64\n"
     ]
    }
   ],
   "source": [
    "a=pd.Series([2,0,-1,12])\n",
    "print(a)"
   ]
  },
  {
   "cell_type": "code",
   "execution_count": 69,
   "metadata": {},
   "outputs": [
    {
     "name": "stdout",
     "output_type": "stream",
     "text": [
      "0     2\n",
      "1     0\n",
      "2    -1\n",
      "3    12\n",
      "dtype: int64\n"
     ]
    }
   ],
   "source": [
    "a.drop(0)\n",
    "print(a)"
   ]
  },
  {
   "cell_type": "code",
   "execution_count": 72,
   "metadata": {},
   "outputs": [
    {
     "name": "stdout",
     "output_type": "stream",
     "text": [
      "2    -1\n",
      "3    12\n",
      "dtype: int64\n"
     ]
    }
   ],
   "source": [
    "b=a.drop(0)\n",
    "print(b)"
   ]
  },
  {
   "cell_type": "code",
   "execution_count": 73,
   "metadata": {},
   "outputs": [
    {
     "name": "stdout",
     "output_type": "stream",
     "text": [
      "2    -1\n",
      "3    12\n",
      "dtype: int64\n"
     ]
    }
   ],
   "source": [
    "c=a.drop([0,1])\n",
    "print(c)"
   ]
  },
  {
   "cell_type": "markdown",
   "metadata": {},
   "source": [
    "As we can see, drop() operation will not remove the lables from the original Series, it create a copy of the Series data and then do the removing operation on the copy of the data.\n",
    "\n",
    "But if we want to remove the lables from the original Series, we can do like this:"
   ]
  },
  {
   "cell_type": "code",
   "execution_count": 74,
   "metadata": {},
   "outputs": [
    {
     "name": "stdout",
     "output_type": "stream",
     "text": [
      "1     0\n",
      "2    -1\n",
      "3    12\n",
      "dtype: int64\n"
     ]
    }
   ],
   "source": [
    "a.drop(0,inplace=True)\n",
    "print(a)"
   ]
  },
  {
   "cell_type": "markdown",
   "metadata": {},
   "source": [
    "Or, we can do:"
   ]
  },
  {
   "cell_type": "code",
   "execution_count": 76,
   "metadata": {},
   "outputs": [
    {
     "name": "stdout",
     "output_type": "stream",
     "text": [
      "1     0\n",
      "2    -1\n",
      "3    12\n",
      "dtype: int64\n"
     ]
    }
   ],
   "source": [
    "a=pd.Series([2,0,-1,12])\n",
    "a=a.drop(0)\n",
    "print(a)"
   ]
  },
  {
   "cell_type": "markdown",
   "metadata": {},
   "source": [
    "### s.name & s.index.name"
   ]
  },
  {
   "cell_type": "code",
   "execution_count": 77,
   "metadata": {},
   "outputs": [
    {
     "name": "stdout",
     "output_type": "stream",
     "text": [
      "0     2\n",
      "1     0\n",
      "2    -1\n",
      "3    12\n",
      "dtype: int64\n"
     ]
    }
   ],
   "source": [
    "a=pd.Series([2,0,-1,12])\n",
    "print(a)"
   ]
  },
  {
   "cell_type": "code",
   "execution_count": 82,
   "metadata": {},
   "outputs": [
    {
     "name": "stdout",
     "output_type": "stream",
     "text": [
      "World\n",
      "0     2\n",
      "1     0\n",
      "2    -1\n",
      "3    12\n",
      "Name: Hello, dtype: int64\n"
     ]
    }
   ],
   "source": [
    "a.name=\"Hello\"\n",
    "a.index.name=\"World\"\n",
    "print(a)"
   ]
  },
  {
   "cell_type": "markdown",
   "metadata": {},
   "source": [
    "### pandas.get_dummies \n",
    "pandas.get_dummies(data, prefix=None, prefix_sep='_', dummy_na=False, columns=None, sparse=False, drop_first=False, dtype=None)\n",
    "\n",
    "get_dummies(), Convert categorical variable into dummy/indicator variables(ダミー変数)."
   ]
  },
  {
   "cell_type": "code",
   "execution_count": 73,
   "metadata": {},
   "outputs": [
    {
     "name": "stdout",
     "output_type": "stream",
     "text": [
      "0          Tokyo\n",
      "1    Birmmingham\n",
      "2         London\n",
      "3         Dezhou\n",
      "dtype: object\n",
      "   Birmmingham  Dezhou  London  Tokyo\n",
      "0            0       0       0      1\n",
      "1            1       0       0      0\n",
      "2            0       0       1      0\n",
      "3            0       1       0      0\n"
     ]
    }
   ],
   "source": [
    "a=pd.Series([\"Tokyo\",\"Birmmingham\",\"London\",\"Dezhou\"])\n",
    "print(a)\n",
    "b=pd.get_dummies(a)\n",
    "print(b)"
   ]
  },
  {
   "cell_type": "markdown",
   "metadata": {},
   "source": [
    "# 2. DataFrame\n",
    "class pandas.DataFrame(data=None, index=None, columns=None, dtype=None, copy=False)\n",
    "\n",
    "DataFrame is Two-dimensional, size-mutable, potentially heterogeneous tabular data.\n",
    "class pandas.DataFrame(data=None, index=None, columns=None, dtype=None, copy=False)[source]"
   ]
  },
  {
   "cell_type": "markdown",
   "metadata": {},
   "source": [
    "### pandas.DataFrame\n",
    "\n",
    "Similar to create a Series, \n",
    "### wen can also create a DataFrame by using Python Dictionary. "
   ]
  },
  {
   "cell_type": "code",
   "execution_count": 86,
   "metadata": {},
   "outputs": [
    {
     "name": "stdout",
     "output_type": "stream",
     "text": [
      "   one  two  three\n",
      "0    1    4      7\n",
      "1    2    5      8\n",
      "2    3    6      9\n"
     ]
    }
   ],
   "source": [
    "data={\"one\":[1,2,3],\"two\":[4,5,6],\"three\":[7,8,9]}\n",
    "df=pd.DataFrame(data)\n",
    "print(df)"
   ]
  },
  {
   "cell_type": "markdown",
   "metadata": {},
   "source": [
    "### Also, wen can  create a DataFrame by using Numpy array."
   ]
  },
  {
   "cell_type": "code",
   "execution_count": 88,
   "metadata": {},
   "outputs": [
    {
     "name": "stdout",
     "output_type": "stream",
     "text": [
      "numpydata\n",
      "[[5 2 4]\n",
      " [6 2 2]\n",
      " [7 8 6]]\n",
      "df3\n",
      "   0  1  2\n",
      "0  5  2  4\n",
      "1  6  2  2\n",
      "2  7  8  6\n"
     ]
    }
   ],
   "source": [
    "numpydata=np.random.randint(1,10,9).reshape(3,3)\n",
    "\n",
    "df3=pd.DataFrame(numpydata)\n",
    "print(\"numpydata\")\n",
    "print(numpydata)\n",
    "print(\"df3\")\n",
    "print(df3)"
   ]
  },
  {
   "cell_type": "markdown",
   "metadata": {},
   "source": [
    "As we can see, DataFrame is a Two-dimensional data, consiste of \"index\" and \"Columns\". And we can give the index anf columns name"
   ]
  },
  {
   "cell_type": "code",
   "execution_count": 89,
   "metadata": {},
   "outputs": [
    {
     "name": "stdout",
     "output_type": "stream",
     "text": [
      "   one  two  three\n",
      "a    5    2      4\n",
      "b    6    2      2\n",
      "c    7    8      6\n"
     ]
    }
   ],
   "source": [
    "df4=pd.DataFrame(numpydata,columns=[\"one\",\"two\",\"three\"],index=[\"a\",\"b\",\"c\"])\n",
    "print(df4)"
   ]
  },
  {
   "cell_type": "markdown",
   "metadata": {},
   "source": [
    "### Moreover, we can generate a DataFrame by using Series."
   ]
  },
  {
   "cell_type": "code",
   "execution_count": 90,
   "metadata": {},
   "outputs": [
    {
     "name": "stdout",
     "output_type": "stream",
     "text": [
      "row 1\n",
      "one      0\n",
      "two      1\n",
      "three    2\n",
      "Name: Series 1, dtype: int32\n",
      "row 2\n",
      "a    0\n",
      "b    1\n",
      "c    2\n",
      "Name: Series 2, dtype: int32\n"
     ]
    }
   ],
   "source": [
    "row1=pd.Series(np.arange(3),index=[\"one\",\"two\",\"three\"])\n",
    "row2=pd.Series(np.arange(3),index=[\"a\",\"b\",\"c\"])\n",
    "\n",
    "row1.name=\"Series 1\"\n",
    "row2.name=\"Series 2\"\n",
    "\n",
    "print(\"row 1\")\n",
    "print(row1)\n",
    "print(\"row 2\")\n",
    "print(row2)"
   ]
  },
  {
   "cell_type": "code",
   "execution_count": 91,
   "metadata": {},
   "outputs": [
    {
     "name": "stdout",
     "output_type": "stream",
     "text": [
      "df5\n",
      "          one  two  three    a    b    c\n",
      "Series 1  0.0  1.0    2.0  NaN  NaN  NaN\n",
      "Series 2  NaN  NaN    NaN  0.0  1.0  2.0\n"
     ]
    }
   ],
   "source": [
    "df5=pd.DataFrame([row1,row2])\n",
    "print(\"df5\")\n",
    "print(df5)\n"
   ]
  },
  {
   "cell_type": "markdown",
   "metadata": {},
   "source": [
    "### df.T\n",
    "Similar to the matrix, we can do transpose operation on DataFrame. "
   ]
  },
  {
   "cell_type": "code",
   "execution_count": 92,
   "metadata": {},
   "outputs": [
    {
     "name": "stdout",
     "output_type": "stream",
     "text": [
      "       Series 1  Series 2\n",
      "one         0.0       NaN\n",
      "two         1.0       NaN\n",
      "three       2.0       NaN\n",
      "a           NaN       0.0\n",
      "b           NaN       1.0\n",
      "c           NaN       2.0\n"
     ]
    }
   ],
   "source": [
    "print(df5.T)"
   ]
  },
  {
   "cell_type": "code",
   "execution_count": null,
   "metadata": {},
   "outputs": [],
   "source": [
    "And if we give the same index to rwo1 and rwo2"
   ]
  },
  {
   "cell_type": "code",
   "execution_count": 94,
   "metadata": {},
   "outputs": [
    {
     "name": "stdout",
     "output_type": "stream",
     "text": [
      "df5\n",
      "          one  two  three\n",
      "Series 1    0    1      2\n",
      "Series 2    0    1      2\n"
     ]
    }
   ],
   "source": [
    "row1=pd.Series(np.arange(3),index=[\"one\",\"two\",\"three\"])\n",
    "row2=pd.Series(np.arange(3),index=[\"one\",\"two\",\"three\"])\n",
    "\n",
    "row1.name=\"Series 1\"\n",
    "row2.name=\"Series 2\"\n",
    "df5=pd.DataFrame([row1,row2])\n",
    "print(\"df5\")\n",
    "print(df5)"
   ]
  },
  {
   "cell_type": "code",
   "execution_count": 95,
   "metadata": {},
   "outputs": [
    {
     "name": "stdout",
     "output_type": "stream",
     "text": [
      "       Series 1  Series 2\n",
      "one           0         0\n",
      "two           1         1\n",
      "three         2         2\n"
     ]
    }
   ],
   "source": [
    "print(df5.T)"
   ]
  },
  {
   "cell_type": "code",
   "execution_count": 96,
   "metadata": {},
   "outputs": [
    {
     "name": "stdout",
     "output_type": "stream",
     "text": [
      "   one  two  three\n",
      "0    1    4      7\n",
      "1    2    5      8\n",
      "2    3    6      9\n"
     ]
    }
   ],
   "source": [
    "df2=pd.DataFrame({\"one\":[1,2,3],\"two\":[4,5,6],\"three\":[7,8,9]})\n",
    "print(df2)"
   ]
  },
  {
   "cell_type": "code",
   "execution_count": 97,
   "metadata": {},
   "outputs": [
    {
     "name": "stdout",
     "output_type": "stream",
     "text": [
      "Index(['one', 'two', 'three'], dtype='object')\n"
     ]
    }
   ],
   "source": [
    "print(df2.columns)"
   ]
  },
  {
   "cell_type": "code",
   "execution_count": 98,
   "metadata": {},
   "outputs": [
    {
     "name": "stdout",
     "output_type": "stream",
     "text": [
      "['one' 'two' 'three']\n"
     ]
    }
   ],
   "source": [
    "print(df2.columns.values)"
   ]
  },
  {
   "cell_type": "code",
   "execution_count": 99,
   "metadata": {},
   "outputs": [
    {
     "name": "stdout",
     "output_type": "stream",
     "text": [
      "one\n"
     ]
    }
   ],
   "source": [
    "print(df2.columns.values[0])"
   ]
  },
  {
   "cell_type": "code",
   "execution_count": 100,
   "metadata": {},
   "outputs": [
    {
     "name": "stdout",
     "output_type": "stream",
     "text": [
      "0    1\n",
      "1    2\n",
      "2    3\n",
      "Name: one, dtype: int64\n"
     ]
    }
   ],
   "source": [
    "print(df2[\"one\"])"
   ]
  },
  {
   "cell_type": "code",
   "execution_count": 101,
   "metadata": {},
   "outputs": [
    {
     "name": "stdout",
     "output_type": "stream",
     "text": [
      "0    1\n",
      "1    2\n",
      "2    3\n",
      "Name: one, dtype: int64\n"
     ]
    }
   ],
   "source": [
    "print(df2.one)"
   ]
  },
  {
   "cell_type": "code",
   "execution_count": 102,
   "metadata": {},
   "outputs": [
    {
     "name": "stdout",
     "output_type": "stream",
     "text": [
      "   one  two\n",
      "0    1    4\n",
      "1    2    5\n",
      "2    3    6\n"
     ]
    }
   ],
   "source": [
    "print(df2[[\"one\",\"two\"]])"
   ]
  },
  {
   "cell_type": "code",
   "execution_count": 103,
   "metadata": {},
   "outputs": [
    {
     "name": "stdout",
     "output_type": "stream",
     "text": [
      "   one  two  three\n",
      "0    1    4      7\n"
     ]
    }
   ],
   "source": [
    "print(df2[:2]) # Slicing from 0 to 1"
   ]
  },
  {
   "cell_type": "code",
   "execution_count": 104,
   "metadata": {},
   "outputs": [
    {
     "name": "stdout",
     "output_type": "stream",
     "text": [
      "   one  two  three\n",
      "1    2    5      8\n"
     ]
    }
   ],
   "source": [
    "print(df2[1:2])"
   ]
  },
  {
   "cell_type": "code",
   "execution_count": 105,
   "metadata": {},
   "outputs": [
    {
     "name": "stdout",
     "output_type": "stream",
     "text": [
      "   one  two  three\n",
      "a    1    4      7\n",
      "b    2    5      8\n",
      "c    3    6      9\n"
     ]
    }
   ],
   "source": [
    "df2.index=[\"a\",\"b\",\"c\"]\n",
    "print(df2)"
   ]
  },
  {
   "cell_type": "markdown",
   "metadata": {},
   "source": [
    "### pandas.DataFrame.loc & pandas.DataFrame.iloc"
   ]
  },
  {
   "cell_type": "code",
   "execution_count": 115,
   "metadata": {},
   "outputs": [
    {
     "name": "stdout",
     "output_type": "stream",
     "text": [
      "   one  two  three\n",
      "a    1    4      7\n",
      "b    2    5      8\n"
     ]
    }
   ],
   "source": [
    "print(df2.loc[\"a\":\"b\"])"
   ]
  },
  {
   "cell_type": "code",
   "execution_count": 108,
   "metadata": {},
   "outputs": [
    {
     "name": "stdout",
     "output_type": "stream",
     "text": [
      "   two  three\n",
      "a    4      7\n",
      "b    5      8\n",
      "c    6      9\n",
      "one      3\n",
      "two      6\n",
      "three    9\n",
      "Name: c, dtype: int64\n"
     ]
    }
   ],
   "source": [
    "print(df2.iloc[:,1:])#[row,column]"
   ]
  },
  {
   "cell_type": "code",
   "execution_count": 109,
   "metadata": {},
   "outputs": [
    {
     "name": "stdout",
     "output_type": "stream",
     "text": [
      "one      3\n",
      "two      6\n",
      "three    9\n",
      "Name: c, dtype: int64\n"
     ]
    }
   ],
   "source": [
    "print(df2.iloc[2])#if there is only one value in [], that value corresponds to the rwo number(default)"
   ]
  },
  {
   "cell_type": "code",
   "execution_count": 110,
   "metadata": {},
   "outputs": [
    {
     "name": "stdout",
     "output_type": "stream",
     "text": [
      "   one  two  three\n",
      "a    1    4      7\n",
      "b    2    5      8\n"
     ]
    }
   ],
   "source": [
    "print(df2.iloc[0:2])"
   ]
  },
  {
   "cell_type": "code",
   "execution_count": 111,
   "metadata": {},
   "outputs": [
    {
     "data": {
      "text/html": [
       "<div>\n",
       "<style scoped>\n",
       "    .dataframe tbody tr th:only-of-type {\n",
       "        vertical-align: middle;\n",
       "    }\n",
       "\n",
       "    .dataframe tbody tr th {\n",
       "        vertical-align: top;\n",
       "    }\n",
       "\n",
       "    .dataframe thead th {\n",
       "        text-align: right;\n",
       "    }\n",
       "</style>\n",
       "<table border=\"1\" class=\"dataframe\">\n",
       "  <thead>\n",
       "    <tr style=\"text-align: right;\">\n",
       "      <th></th>\n",
       "      <th>one</th>\n",
       "      <th>two</th>\n",
       "      <th>three</th>\n",
       "    </tr>\n",
       "  </thead>\n",
       "  <tbody>\n",
       "    <tr>\n",
       "      <th>a</th>\n",
       "      <td>1</td>\n",
       "      <td>4</td>\n",
       "      <td>7</td>\n",
       "    </tr>\n",
       "    <tr>\n",
       "      <th>c</th>\n",
       "      <td>3</td>\n",
       "      <td>6</td>\n",
       "      <td>9</td>\n",
       "    </tr>\n",
       "  </tbody>\n",
       "</table>\n",
       "</div>"
      ],
      "text/plain": [
       "   one  two  three\n",
       "a    1    4      7\n",
       "c    3    6      9"
      ]
     },
     "execution_count": 111,
     "metadata": {},
     "output_type": "execute_result"
    }
   ],
   "source": [
    "df2.iloc[[0,2]]"
   ]
  },
  {
   "cell_type": "code",
   "execution_count": 113,
   "metadata": {},
   "outputs": [
    {
     "data": {
      "text/html": [
       "<div>\n",
       "<style scoped>\n",
       "    .dataframe tbody tr th:only-of-type {\n",
       "        vertical-align: middle;\n",
       "    }\n",
       "\n",
       "    .dataframe tbody tr th {\n",
       "        vertical-align: top;\n",
       "    }\n",
       "\n",
       "    .dataframe thead th {\n",
       "        text-align: right;\n",
       "    }\n",
       "</style>\n",
       "<table border=\"1\" class=\"dataframe\">\n",
       "  <thead>\n",
       "    <tr style=\"text-align: right;\">\n",
       "      <th></th>\n",
       "      <th>two</th>\n",
       "      <th>three</th>\n",
       "    </tr>\n",
       "  </thead>\n",
       "  <tbody>\n",
       "    <tr>\n",
       "      <th>a</th>\n",
       "      <td>4</td>\n",
       "      <td>7</td>\n",
       "    </tr>\n",
       "    <tr>\n",
       "      <th>b</th>\n",
       "      <td>5</td>\n",
       "      <td>8</td>\n",
       "    </tr>\n",
       "  </tbody>\n",
       "</table>\n",
       "</div>"
      ],
      "text/plain": [
       "   two  three\n",
       "a    4      7\n",
       "b    5      8"
      ]
     },
     "execution_count": 113,
     "metadata": {},
     "output_type": "execute_result"
    }
   ],
   "source": [
    "df2.iloc[0:2,1:]  #0 to 1 in rwo, columns after 1 "
   ]
  },
  {
   "cell_type": "markdown",
   "metadata": {},
   "source": [
    "### pandas.DataFrame.drop \n",
    "DataFrame.drop(labels=None, axis=0, index=None, columns=None, level=None, inplace=False, errors='raise')"
   ]
  },
  {
   "cell_type": "code",
   "execution_count": 116,
   "metadata": {},
   "outputs": [
    {
     "name": "stdout",
     "output_type": "stream",
     "text": [
      "   one  two  three\n",
      "0    1    4      7\n",
      "1    2    5      8\n",
      "2    3    6      9\n"
     ]
    }
   ],
   "source": [
    "df=pd.DataFrame({\"one\":[1,2,3],\"two\":[4,5,6],\"three\":[7,8,9]})\n",
    "print(df)"
   ]
  },
  {
   "cell_type": "code",
   "execution_count": 126,
   "metadata": {},
   "outputs": [
    {
     "name": "stdout",
     "output_type": "stream",
     "text": [
      "   one  two\n",
      "0    1    4\n",
      "1    2    5\n",
      "2    3    6\n"
     ]
    }
   ],
   "source": [
    "print(df.drop(\"three\",axis=1))"
   ]
  },
  {
   "cell_type": "code",
   "execution_count": 120,
   "metadata": {},
   "outputs": [
    {
     "name": "stdout",
     "output_type": "stream",
     "text": [
      "   one  two\n",
      "0    1    4\n",
      "1    2    5\n",
      "2    3    6\n"
     ]
    }
   ],
   "source": [
    "print(df.drop(\"three\",axis=\"columns\"))"
   ]
  },
  {
   "cell_type": "code",
   "execution_count": 123,
   "metadata": {},
   "outputs": [
    {
     "name": "stdout",
     "output_type": "stream",
     "text": [
      "   one  two  three\n",
      "0    1    4      7\n",
      "1    2    5      8\n"
     ]
    }
   ],
   "source": [
    "print(df.drop(2,axis=0))"
   ]
  },
  {
   "cell_type": "code",
   "execution_count": 124,
   "metadata": {},
   "outputs": [
    {
     "name": "stdout",
     "output_type": "stream",
     "text": [
      "   one  two  three\n",
      "2    3    6      9\n"
     ]
    }
   ],
   "source": [
    "print(df.drop([0,1],axis=0))"
   ]
  },
  {
   "cell_type": "code",
   "execution_count": 127,
   "metadata": {},
   "outputs": [
    {
     "name": "stdout",
     "output_type": "stream",
     "text": [
      "   one  two  three\n",
      "0    1    4      7\n",
      "1    2    5      8\n",
      "2    3    6      9\n"
     ]
    }
   ],
   "source": [
    "df=pd.DataFrame({\"one\":[1,2,3],\"two\":[4,5,6],\"three\":[7,8,9]})\n",
    "df.drop(\"three\",axis=\"columns\")\n",
    "print(df)"
   ]
  },
  {
   "cell_type": "code",
   "execution_count": 128,
   "metadata": {},
   "outputs": [
    {
     "name": "stdout",
     "output_type": "stream",
     "text": [
      "   one  two\n",
      "0    1    4\n",
      "1    2    5\n",
      "2    3    6\n"
     ]
    }
   ],
   "source": [
    "df=pd.DataFrame({\"one\":[1,2,3],\"two\":[4,5,6],\"three\":[7,8,9]})\n",
    "df=df.drop(\"three\",axis=\"columns\")\n",
    "print(df)"
   ]
  },
  {
   "cell_type": "code",
   "execution_count": 129,
   "metadata": {},
   "outputs": [
    {
     "name": "stdout",
     "output_type": "stream",
     "text": [
      "   one  two\n",
      "0    1    4\n",
      "1    2    5\n",
      "2    3    6\n"
     ]
    }
   ],
   "source": [
    "df=pd.DataFrame({\"one\":[1,2,3],\"two\":[4,5,6],\"three\":[7,8,9]})\n",
    "df.drop(\"three\",axis=\"columns\",inplace=True)\n",
    "print(df)"
   ]
  },
  {
   "cell_type": "markdown",
   "metadata": {},
   "source": [
    "### del"
   ]
  },
  {
   "cell_type": "code",
   "execution_count": 130,
   "metadata": {},
   "outputs": [
    {
     "name": "stdout",
     "output_type": "stream",
     "text": [
      "   one  two\n",
      "0    1    4\n",
      "1    2    5\n",
      "2    3    6\n"
     ]
    }
   ],
   "source": [
    "df=pd.DataFrame({\"one\":[1,2,3],\"two\":[4,5,6],\"three\":[7,8,9]})\n",
    "\n",
    "del df[\"three\"]\n",
    "print(df)"
   ]
  },
  {
   "cell_type": "markdown",
   "metadata": {},
   "source": [
    "### Satistice operation, max, min, mean and so on"
   ]
  },
  {
   "cell_type": "code",
   "execution_count": 138,
   "metadata": {},
   "outputs": [
    {
     "name": "stdout",
     "output_type": "stream",
     "text": [
      "   one  two  three\n",
      "0    1    4      9\n",
      "1    2    6      8\n",
      "2    3    5      7\n"
     ]
    }
   ],
   "source": [
    "dff=pd.DataFrame({\"one\":[1,2,3],\"two\":[4,6,5],\"three\":[9,8,7]})\n",
    "print(dff)"
   ]
  },
  {
   "cell_type": "code",
   "execution_count": 139,
   "metadata": {},
   "outputs": [
    {
     "name": "stdout",
     "output_type": "stream",
     "text": [
      "0    9\n",
      "1    8\n",
      "2    7\n",
      "dtype: int64\n"
     ]
    }
   ],
   "source": [
    "print(dff.max(axis=1)) # Max number in horizontal"
   ]
  },
  {
   "cell_type": "code",
   "execution_count": 135,
   "metadata": {},
   "outputs": [
    {
     "name": "stdout",
     "output_type": "stream",
     "text": [
      "one      3\n",
      "two      6\n",
      "three    9\n",
      "dtype: int64\n"
     ]
    }
   ],
   "source": [
    "print(dff.max(axis=0)) # Max number in vertical"
   ]
  },
  {
   "cell_type": "code",
   "execution_count": 137,
   "metadata": {},
   "outputs": [
    {
     "name": "stdout",
     "output_type": "stream",
     "text": [
      "0    7\n",
      "1    8\n",
      "2    9\n",
      "dtype: int64\n"
     ]
    }
   ],
   "source": [
    "print(dff.max(axis=\"columns\")) # same as (axis=1"
   ]
  },
  {
   "cell_type": "code",
   "execution_count": null,
   "metadata": {},
   "outputs": [],
   "source": [
    "print(dff.max(axis=\"index\"))  # same as (axis=0"
   ]
  },
  {
   "cell_type": "code",
   "execution_count": 144,
   "metadata": {},
   "outputs": [
    {
     "name": "stdout",
     "output_type": "stream",
     "text": [
      "0    1\n",
      "1    2\n",
      "2    3\n",
      "dtype: int64\n"
     ]
    }
   ],
   "source": [
    "print(dff.min(axis=1)) # Min number in horizontal"
   ]
  },
  {
   "cell_type": "code",
   "execution_count": 143,
   "metadata": {},
   "outputs": [
    {
     "name": "stdout",
     "output_type": "stream",
     "text": [
      "0    4.666667\n",
      "1    5.333333\n",
      "2    5.000000\n",
      "dtype: float64\n"
     ]
    }
   ],
   "source": [
    "print(dff.mean(axis=1)) # mean value in horizontal"
   ]
  },
  {
   "cell_type": "markdown",
   "metadata": {},
   "source": [
    "### pandas.DataFrame.apply & pandas.DataFrame.transform\n",
    "DataFrame.apply(func, axis=0, raw=False, result_type=None, args=(), **kwds)\n",
    "\n",
    "DataFrame.transform(func, axis=0, *args, **kwargs)\n",
    "\n",
    "apply() Apply a function along an axis of the DataFrame.\n",
    "\n",
    "transform() Call func on self producing a DataFrame with transformed values."
   ]
  },
  {
   "cell_type": "code",
   "execution_count": 57,
   "metadata": {},
   "outputs": [
    {
     "name": "stdout",
     "output_type": "stream",
     "text": [
      "one      2.0\n",
      "two      5.0\n",
      "three    8.0\n",
      "dtype: float64\n"
     ]
    }
   ],
   "source": [
    "dff=pd.DataFrame({\"one\":[1,2,3],\"two\":[4,5,6],\"three\":[7,8,9]})\n",
    "\n",
    "print(dff.transform(np.mean))"
   ]
  },
  {
   "cell_type": "code",
   "execution_count": 58,
   "metadata": {},
   "outputs": [
    {
     "name": "stdout",
     "output_type": "stream",
     "text": [
      "one      2.0\n",
      "two      5.0\n",
      "three    8.0\n",
      "dtype: float64\n"
     ]
    }
   ],
   "source": [
    "print(dff.apply(np.mean))"
   ]
  },
  {
   "cell_type": "code",
   "execution_count": 59,
   "metadata": {},
   "outputs": [
    {
     "name": "stdout",
     "output_type": "stream",
     "text": [
      "   one  two  three\n",
      "0    2    5      8\n",
      "1    3    6      9\n",
      "2    4    7     10\n"
     ]
    }
   ],
   "source": [
    "print(dff.transform(lambda x:x+1))"
   ]
  },
  {
   "cell_type": "code",
   "execution_count": 60,
   "metadata": {},
   "outputs": [
    {
     "name": "stdout",
     "output_type": "stream",
     "text": [
      "   one  two  three\n",
      "0    2    5      8\n",
      "1    3    6      9\n",
      "2    4    7     10\n"
     ]
    }
   ],
   "source": [
    "print(dff.apply(lambda x:x+1))"
   ]
  },
  {
   "cell_type": "code",
   "execution_count": 67,
   "metadata": {},
   "outputs": [
    {
     "name": "stdout",
     "output_type": "stream",
     "text": [
      "   one  two  three\n",
      "0    1    4      7\n",
      "1    2    5      8\n",
      "2    3    6      9\n",
      "------------------\n",
      "   one  two  three\n",
      "0    2    5      8\n",
      "1    3    6      9\n",
      "2    4    7     10\n",
      "------------------\n",
      "   one  two  three\n",
      "0    2    5      8\n",
      "1    3    6      9\n",
      "2    4    7     10\n"
     ]
    }
   ],
   "source": [
    "def jiawei(x):\n",
    "    \n",
    "    x=x+1\n",
    "    return x\n",
    "\n",
    "dff=pd.DataFrame({\"one\":[1,2,3],\"two\":[4,5,6],\"three\":[7,8,9]})\n",
    "print(dff)\n",
    "print('------------------')\n",
    "print(dff.transform(jiawei))\n",
    "print('------------------')\n",
    "print(dff.apply(jiawei))"
   ]
  },
  {
   "cell_type": "code",
   "execution_count": 68,
   "metadata": {},
   "outputs": [
    {
     "name": "stdout",
     "output_type": "stream",
     "text": [
      "   one  two  three\n",
      "0    2    5      8\n",
      "1    3    6      9\n",
      "2    4    7     10\n"
     ]
    }
   ],
   "source": [
    "dff2=jiawei(dff)\n",
    "print(dff2)"
   ]
  },
  {
   "cell_type": "markdown",
   "metadata": {},
   "source": [
    "### Insert lables to Dataframe"
   ]
  },
  {
   "cell_type": "code",
   "execution_count": 145,
   "metadata": {},
   "outputs": [
    {
     "name": "stdout",
     "output_type": "stream",
     "text": [
      "Empty DataFrame\n",
      "Columns: [c1, c2, c3]\n",
      "Index: []\n",
      "  c1 c2 c3\n",
      "0  1  2  3\n",
      "1  1  2  3\n",
      "2  1  2  3\n",
      "3  1  2  3\n",
      "4  1  2  3\n"
     ]
    }
   ],
   "source": [
    "df=pd.DataFrame(columns=[\"c1\",\"c2\",\"c3\"])\n",
    "print(df)"
   ]
  },
  {
   "cell_type": "code",
   "execution_count": 146,
   "metadata": {},
   "outputs": [
    {
     "name": "stdout",
     "output_type": "stream",
     "text": [
      "   c1  c2  c3\n",
      "0   1   2   3\n",
      "1   1   2   3\n",
      "2   1   2   3\n",
      "3   1   2   3\n",
      "4   1   2   3\n"
     ]
    }
   ],
   "source": [
    "for i in range(5):\n",
    "    df.loc[i]=[1,2,3] #if there is only one value in [], that value corresponds to the rwo number(default)\n",
    "\n",
    "print(df)"
   ]
  },
  {
   "cell_type": "code",
   "execution_count": 147,
   "metadata": {},
   "outputs": [
    {
     "name": "stdout",
     "output_type": "stream",
     "text": [
      "Empty DataFrame\n",
      "Columns: [c1, c2, c3]\n",
      "Index: []\n",
      "  c1 c2 c3\n",
      "0  1  1  1\n",
      "1  1  1  1\n",
      "2  1  1  1\n",
      "3  1  1  1\n",
      "4  1  1  1\n"
     ]
    }
   ],
   "source": [
    "df=pd.DataFrame(columns=[\"c1\",\"c2\",\"c3\"])\n",
    "print(df)\n",
    "\n",
    "for i in range(5):\n",
    "    df.loc[i]=1\n",
    "\n",
    "print(df)"
   ]
  },
  {
   "cell_type": "markdown",
   "metadata": {},
   "source": [
    "### Insert columns"
   ]
  },
  {
   "cell_type": "code",
   "execution_count": null,
   "metadata": {},
   "outputs": [],
   "source": [
    "df=pd.DataFrame({\"a\":[1,2,3,4],\"b\":[5,6,7,8]})\n",
    "print(df)"
   ]
  },
  {
   "cell_type": "code",
   "execution_count": null,
   "metadata": {},
   "outputs": [],
   "source": [
    "df[\"new_column_1\"]=0\n",
    "df[\"new_column_2\"]=[9,10,11,12]\n",
    "print(df)"
   ]
  },
  {
   "cell_type": "markdown",
   "metadata": {},
   "source": [
    "### Insert rows \n",
    "To insert a new row, we need the command \"loc\""
   ]
  },
  {
   "cell_type": "code",
   "execution_count": 148,
   "metadata": {},
   "outputs": [
    {
     "name": "stdout",
     "output_type": "stream",
     "text": [
      "Empty DataFrame\n",
      "Columns: [c1, c2, c3]\n",
      "Index: []\n",
      "  c1 c2 c3\n",
      "0  1  2  3\n",
      "1  1  2  3\n",
      "2  1  2  3\n",
      "3  1  2  3\n",
      "4  1  2  3\n",
      "        c1 c2  c3\n",
      "0        1  2   3\n",
      "1        1  2   3\n",
      "2        1  2   3\n",
      "3        1  2   3\n",
      "4        1  2   3\n",
      "new_row  8  9  10\n"
     ]
    }
   ],
   "source": [
    "df=pd.DataFrame(columns=[\"c1\",\"c2\",\"c3\"])\n",
    "print(df)\n",
    "\n",
    "for i in range(5):\n",
    "    df.loc[i]=[1,2,3]\n",
    "\n",
    "print(df)\n",
    "\n",
    "df.loc[\"new_row\"]=[8,9,10]\n",
    "print(df)"
   ]
  },
  {
   "cell_type": "markdown",
   "metadata": {},
   "source": [
    "### pandas.concat Combine two DataFrame together\n",
    "pandas.concat(objs: Union[Iterable[‘DataFrame’], Mapping[Label, ‘DataFrame’]], axis='0', join: str = \"'outer'\", ignore_index: bool = 'False', keys='None', levels='None', names='None', verify_integrity: bool = 'False', sort: bool = 'False', copy: bool = 'True') → ’DataFrame’"
   ]
  },
  {
   "cell_type": "markdown",
   "metadata": {},
   "source": [
    "df1=pd.DataFrame({\"a\":[1,2,3],\"b\":[5,6,7]})\n",
    "df2=pd.DataFrame({\"a\":[11,12,13],\"b\":[15,16,17]})"
   ]
  },
  {
   "cell_type": "code",
   "execution_count": 156,
   "metadata": {},
   "outputs": [
    {
     "name": "stdout",
     "output_type": "stream",
     "text": [
      "   a  b   a   b\n",
      "0  1  5  11  15\n",
      "1  2  6  12  16\n",
      "2  3  7  13  17\n"
     ]
    }
   ],
   "source": [
    "df3=pd.concat([df1,df2],axis=1) # 1, combine two dataframe in horizontal\n",
    "print(df3)"
   ]
  },
  {
   "cell_type": "code",
   "execution_count": 157,
   "metadata": {},
   "outputs": [
    {
     "name": "stdout",
     "output_type": "stream",
     "text": [
      "   0  1   2   3\n",
      "0  1  5  11  15\n",
      "1  2  6  12  16\n",
      "2  3  7  13  17\n"
     ]
    }
   ],
   "source": [
    "df4=pd.concat([df1,df2],ignore_index=True,axis=1)\n",
    "print(df4)"
   ]
  },
  {
   "cell_type": "code",
   "execution_count": 158,
   "metadata": {},
   "outputs": [
    {
     "name": "stdout",
     "output_type": "stream",
     "text": [
      "    a   b\n",
      "0   1   5\n",
      "1   2   6\n",
      "2   3   7\n",
      "0  11  15\n",
      "1  12  16\n",
      "2  13  17\n"
     ]
    }
   ],
   "source": [
    "df5=pd.concat([df1,df2],axis=0) # 0, combine two dataframe in vertical\n",
    "print(df5)"
   ]
  },
  {
   "cell_type": "code",
   "execution_count": 159,
   "metadata": {},
   "outputs": [
    {
     "name": "stdout",
     "output_type": "stream",
     "text": [
      "    a   b\n",
      "0   1   5\n",
      "1   2   6\n",
      "2   3   7\n",
      "3  11  15\n",
      "4  12  16\n",
      "5  13  17\n"
     ]
    }
   ],
   "source": [
    "df5=pd.concat([df1,df2],ignore_index=True,axis=0) # 0, combine two dataframe in vertical\n",
    "print(df5)"
   ]
  },
  {
   "cell_type": "markdown",
   "metadata": {},
   "source": [
    "### pandas.DataFrame.drop_duplicates\n",
    "DataFrame.drop_duplicates(subset=None, keep='first', inplace=False, ignore_index=False)[source]\n",
    "\n",
    "DataFrame.drop_duplicates(subset=None, keep='first', inplace=False, ignore_index=False)\n",
    "\n",
    "drop_duplicates， ()Return DataFrame with duplicate rows removed."
   ]
  },
  {
   "cell_type": "code",
   "execution_count": 70,
   "metadata": {},
   "outputs": [
    {
     "name": "stdout",
     "output_type": "stream",
     "text": [
      "   one  two  three\n",
      "0    1    4      3\n",
      "1    2    4      3\n",
      "2    2    2      2\n",
      "================\n",
      "0    1\n",
      "1    2\n",
      "Name: one, dtype: int64\n"
     ]
    }
   ],
   "source": [
    "dff=pd.DataFrame({\"one\":[1,2,2],\"two\":[4,4,2],\"three\":[3,3,2]})\n",
    "\n",
    "print(dff)\n",
    "print('================')\n",
    "nore=dff['one'].drop_duplicates()\n",
    "print(nore)"
   ]
  },
  {
   "cell_type": "code",
   "execution_count": 71,
   "metadata": {},
   "outputs": [
    {
     "name": "stdout",
     "output_type": "stream",
     "text": [
      "   one  two  three\n",
      "0    1    4      3\n",
      "1    2    4      3\n",
      "2    2    2      2\n"
     ]
    }
   ],
   "source": [
    "nore2=dff.drop_duplicates()\n",
    "print(nore2)"
   ]
  },
  {
   "cell_type": "code",
   "execution_count": 80,
   "metadata": {},
   "outputs": [
    {
     "name": "stdout",
     "output_type": "stream",
     "text": [
      "================\n",
      "   one  two  three\n",
      "0    1    3      4\n",
      "1    2    2      2\n"
     ]
    }
   ],
   "source": [
    "dff2=pd.DataFrame({\"one\":[1,2,2],\"two\":[3,2,2],\"three\":[4,2,2]})\n",
    "print('================')\n",
    "nore3=dff2.drop_duplicates()  # If there no index in drop_duplicates(), the DataFrame with duplicate rows which occured ar all clumns removed\n",
    "print(nore3)"
   ]
  },
  {
   "cell_type": "markdown",
   "metadata": {},
   "source": [
    "### pandas.cut\n",
    "pandas.cut(x, bins, right=True, labels=None, retbins=False, precision=3, include_lowest=False, duplicates='raise', ordered=True)\n",
    "\n",
    "cut(), Bin values(int, sequence of scalars, or IntervalIndex) or normal numbers into discrete intervals"
   ]
  },
  {
   "cell_type": "code",
   "execution_count": 81,
   "metadata": {},
   "outputs": [
    {
     "name": "stdout",
     "output_type": "stream",
     "text": [
      "0    (0.993, 1.7]\n",
      "1      (1.7, 2.4]\n",
      "2      (2.4, 3.1]\n",
      "3      (3.8, 4.5]\n",
      "4      (5.9, 6.6]\n",
      "5      (7.3, 8.0]\n",
      "Name: one, dtype: category\n",
      "Categories (10, interval[float64]): [(0.993, 1.7] < (1.7, 2.4] < (2.4, 3.1] < (3.1, 3.8] ... (5.2, 5.9] < (5.9, 6.6] < (6.6, 7.3] < (7.3, 8.0]]\n"
     ]
    }
   ],
   "source": [
    "dff=pd.DataFrame({\"one\":[1,2,3,4,6,8],\"two\":[2,2,2,7,8,9],\"three\":[1,2,2,6,2,2]})\n",
    "dff_cut=pd.cut(dff[\"one\"],10)\n",
    "print(dff_cut)"
   ]
  },
  {
   "cell_type": "markdown",
   "metadata": {},
   "source": [
    "# Data Preprocessing\n",
    "\n",
    "### pandas.read_csv Read csv files\n"
   ]
  },
  {
   "cell_type": "code",
   "execution_count": 4,
   "metadata": {},
   "outputs": [
    {
     "name": "stdout",
     "output_type": "stream",
     "text": [
      "         rank discipline  phd  service     sex  salary\n",
      "0        Prof          B   56       49    Male  186960\n",
      "1        Prof          A   12        6    Male   93000\n",
      "2        Prof          A   23       20    Male  110515\n",
      "3        Prof          A   40       31    Male  131205\n",
      "4        Prof          B   20       18    Male  104800\n",
      "5        Prof          A   20       20    Male  122400\n",
      "6   AssocProf          A   20       17    Male   81285\n",
      "7        Prof          A   18       18    Male  126300\n",
      "8        Prof          A   29       19    Male   94350\n",
      "9        Prof          A   51       51    Male   57800\n",
      "10       Prof          B   39       33    Male  128250\n",
      "11       Prof          B   23       23    Male  134778\n",
      "12   AsstProf          B    1        0    Male   88000\n",
      "13       Prof          B   35       33    Male  162200\n",
      "14       Prof          B   25       19    Male  153750\n",
      "15       Prof          B   17        3    Male  150480\n",
      "16   AsstProf          B    8        3    Male   75044\n",
      "17   AsstProf          B    4        0    Male   92000\n",
      "18       Prof          A   19        7    Male  107300\n",
      "19       Prof          A   29       27    Male  150500\n",
      "20   AsstProf          B    4        4    Male   92000\n",
      "21       Prof          A   33       30    Male  103106\n",
      "22   AsstProf          A    4        2    Male   73000\n",
      "23   AsstProf          A    2        0    Male   85000\n",
      "24       Prof          A   30       23    Male   91100\n",
      "25       Prof          B   35       31    Male   99418\n",
      "26       Prof          A   38       19    Male  148750\n",
      "27       Prof          A   45       43    Male  155865\n",
      "28   AsstProf          B    7        2    Male   91300\n",
      "29       Prof          B   21       20    Male  123683\n",
      "..        ...        ...  ...      ...     ...     ...\n",
      "48       Prof          B   17       17  Female  111512\n",
      "49       Prof          B   17       18  Female  122960\n",
      "50   AsstProf          B   10        5  Female   97032\n",
      "51       Prof          B   20       14  Female  127512\n",
      "52       Prof          A   12        0  Female  105000\n",
      "53   AsstProf          A    5        3  Female   73500\n",
      "54  AssocProf          A   25       22  Female   62884\n",
      "55   AsstProf          A    2        0  Female   72500\n",
      "56  AssocProf          A   10        8  Female   77500\n",
      "57   AsstProf          A    3        1  Female   72500\n",
      "58       Prof          B   36       26  Female  144651\n",
      "59  AssocProf          B   12       10  Female  103994\n",
      "60   AsstProf          B    3        3  Female   92000\n",
      "61  AssocProf          B   13       10  Female  103750\n",
      "62  AssocProf          B   14        7  Female  109650\n",
      "63       Prof          A   29       27  Female   91000\n",
      "64  AssocProf          A   26       24  Female   73300\n",
      "65       Prof          A   36       19  Female  117555\n",
      "66   AsstProf          A    7        6  Female   63100\n",
      "67       Prof          A   17       11  Female   90450\n",
      "68   AsstProf          A    4        2  Female   77500\n",
      "69       Prof          A   28        7  Female  116450\n",
      "70   AsstProf          A    8        3  Female   78500\n",
      "71  AssocProf          B   12        9  Female   71065\n",
      "72       Prof          B   24       15  Female  161101\n",
      "73       Prof          B   18       10  Female  105450\n",
      "74  AssocProf          B   19        6  Female  104542\n",
      "75       Prof          B   17       17  Female  124312\n",
      "76       Prof          A   28       14  Female  109954\n",
      "77       Prof          A   23       15  Female  109646\n",
      "\n",
      "[78 rows x 6 columns]\n",
      "rank          object\n",
      "discipline    object\n",
      "phd            int64\n",
      "service        int64\n",
      "sex           object\n",
      "salary         int64\n",
      "dtype: object\n"
     ]
    }
   ],
   "source": [
    "df=pd.read_csv(\"Salaries.csv\")\n",
    "print(df)\n",
    "print(df.dtypes)"
   ]
  },
  {
   "cell_type": "code",
   "execution_count": 5,
   "metadata": {},
   "outputs": [
    {
     "name": "stdout",
     "output_type": "stream",
     "text": [
      "int64\n",
      "salary     int64\n",
      "rank      object\n",
      "dtype: object\n"
     ]
    }
   ],
   "source": [
    "print(df[\"salary\"].dtypes)\n",
    "print(df[[\"salary\",\"rank\"]].dtypes)"
   ]
  },
  {
   "cell_type": "markdown",
   "metadata": {},
   "source": [
    "Other common API functions\n",
    "\n",
    "CSV: read_csv, to_csv\n",
    "HDF: read_hdf, to_hdf\n",
    "SQL: read_sql, to_sql\n",
    "JSON: read_json, to_json\n",
    "HTML: read_html, to_html\n",
    "PICKLE: read_pickle, to_pickle"
   ]
  },
  {
   "cell_type": "markdown",
   "metadata": {},
   "source": [
    "# pandas.DataFrame.head & pandas.DataFrame.tail\n",
    "DataFrame.head(n=5)\n",
    "\n",
    "DataFrame.tail(n=5)\n",
    "\n",
    "The head() function is used to get the first n rows.\n",
    "This function returns the first n rows for the object based on position. It is useful for quickly testing if your object has the right type of data in it.\n",
    "\n",
    "The tail() function is used to get the last n rows.\n",
    "This function returns last n rows from the object based on position. It is useful for quickly verifying data, for example, after sorting or appending rows."
   ]
  },
  {
   "cell_type": "code",
   "execution_count": 9,
   "metadata": {},
   "outputs": [
    {
     "name": "stdout",
     "output_type": "stream",
     "text": [
      "   rank discipline  phd  service   sex  salary\n",
      "0  Prof          B   56       49  Male  186960\n",
      "1  Prof          A   12        6  Male   93000\n",
      "2  Prof          A   23       20  Male  110515\n",
      "3  Prof          A   40       31  Male  131205\n",
      "4  Prof          B   20       18  Male  104800\n"
     ]
    }
   ],
   "source": [
    "print(df.head())  #default, head() means head(5)"
   ]
  },
  {
   "cell_type": "code",
   "execution_count": 7,
   "metadata": {},
   "outputs": [
    {
     "name": "stdout",
     "output_type": "stream",
     "text": [
      "        rank discipline  phd  service   sex  salary\n",
      "0       Prof          B   56       49  Male  186960\n",
      "1       Prof          A   12        6  Male   93000\n",
      "2       Prof          A   23       20  Male  110515\n",
      "3       Prof          A   40       31  Male  131205\n",
      "4       Prof          B   20       18  Male  104800\n",
      "5       Prof          A   20       20  Male  122400\n",
      "6  AssocProf          A   20       17  Male   81285\n",
      "7       Prof          A   18       18  Male  126300\n",
      "8       Prof          A   29       19  Male   94350\n",
      "9       Prof          A   51       51  Male   57800\n"
     ]
    }
   ],
   "source": [
    "print(df.head(10)) "
   ]
  },
  {
   "cell_type": "markdown",
   "metadata": {},
   "source": [
    "print(df.tail()) #default, tail() means tail(5)"
   ]
  },
  {
   "cell_type": "markdown",
   "metadata": {},
   "source": [
    "### describe（）\n",
    "As we mentioned before, the describe() method is used for calculating some statistical data like percentile, mean and std of the numerical values of the Series or DataFrame. It analyzes both numeric and object series and also the DataFrame column sets of mixed data types."
   ]
  },
  {
   "cell_type": "code",
   "execution_count": 10,
   "metadata": {},
   "outputs": [
    {
     "name": "stdout",
     "output_type": "stream",
     "text": [
      "             phd    service         salary\n",
      "count  78.000000  78.000000      78.000000\n",
      "mean   19.705128  15.051282  108023.782051\n",
      "std    12.498425  12.139768   28293.661022\n",
      "min     1.000000   0.000000   57800.000000\n",
      "25%    10.250000   5.250000   88612.500000\n",
      "50%    18.500000  14.500000  104671.000000\n",
      "75%    27.750000  20.750000  126774.750000\n",
      "max    56.000000  51.000000  186960.000000\n"
     ]
    }
   ],
   "source": [
    "print(df.describe())"
   ]
  },
  {
   "cell_type": "markdown",
   "metadata": {},
   "source": [
    "If we want to the specific statistical operations on the specific part of the datas"
   ]
  },
  {
   "cell_type": "markdown",
   "metadata": {},
   "source": [
    "print(df[\"salary\"].mean())\n",
    "print(df[\"salary\"].median())\n",
    "print(df[\"salary\"].head(3).mean())"
   ]
  },
  {
   "cell_type": "markdown",
   "metadata": {},
   "source": [
    "More operations:\n",
    "head() This function returns the first n rows for the object based on position.\n",
    "\n",
    "tail() This function returns last n rows from the object based on position. \n",
    "\n",
    "describe() The describe() method is used for calculating some statistical data like percentile, mean and std of the numerical values of the Series or DataFrame.\n",
    "\n",
    "max() Return the maximum of the values for the requested axis.\n",
    "\n",
    "min() Return the minimum of the values for the requested axis.\n",
    "\n",
    "mean() Return the average of the values for the requested axis.\n",
    "\n",
    "median() Return the median of the values for the requested axis.\n",
    "\n",
    "std() Return sample standard deviation over requested axis.\n",
    "\n",
    "sample() Return a random sample of items from an axis of object.\n",
    "\n",
    "dropna() Remove missing values.\n",
    "\n",
    "count() Count non-NA cells for each column or row.\n",
    "\n",
    "value_count() Return a Series containing counts of unique values.\n",
    "\n",
    "groupby() Group DataFrame using a mapper or by a Series of columns."
   ]
  },
  {
   "cell_type": "markdown",
   "metadata": {},
   "source": [
    "### pandas.DataFrame.count & pandas.Series.value_counts\n",
    "DataFrame.count(axis=0, level=None, numeric_only=False)\n",
    "\n",
    "Series.value_counts(normalize=False, sort=True, ascending=False, bins=None, dropna=True)\n",
    "\n",
    "count(), Count non-NA cells for each column or row.\n",
    "\n",
    "value_counts(), Return a Series containing counts of unique values."
   ]
  },
  {
   "cell_type": "code",
   "execution_count": 15,
   "metadata": {},
   "outputs": [
    {
     "name": "stdout",
     "output_type": "stream",
     "text": [
      "78\n"
     ]
    }
   ],
   "source": [
    "print(df.sex.count())"
   ]
  },
  {
   "cell_type": "code",
   "execution_count": 16,
   "metadata": {},
   "outputs": [
    {
     "name": "stdout",
     "output_type": "stream",
     "text": [
      "Female    39\n",
      "Male      39\n",
      "Name: sex, dtype: int64\n"
     ]
    }
   ],
   "source": [
    "print(df.sex.value_counts())"
   ]
  },
  {
   "cell_type": "markdown",
   "metadata": {},
   "source": [
    "Also, we can sort the output of value_counts() in ascending order"
   ]
  },
  {
   "cell_type": "code",
   "execution_count": 17,
   "metadata": {},
   "outputs": [
    {
     "name": "stdout",
     "output_type": "stream",
     "text": [
      "A    36\n",
      "B    42\n",
      "Name: discipline, dtype: int64\n"
     ]
    }
   ],
   "source": [
    "print(df.discipline.value_counts(ascending=True))"
   ]
  },
  {
   "cell_type": "markdown",
   "metadata": {},
   "source": [
    "And we can do the normalize operation to the value_counts() by setting \"normalize=True\", then the object returned will contain the relative frequencies of the unique values."
   ]
  },
  {
   "cell_type": "code",
   "execution_count": 18,
   "metadata": {},
   "outputs": [
    {
     "name": "stdout",
     "output_type": "stream",
     "text": [
      "A    0.461538\n",
      "B    0.538462\n",
      "Name: discipline, dtype: float64\n"
     ]
    }
   ],
   "source": [
    "print(df.discipline.value_counts(normalize=True,ascending=True))"
   ]
  },
  {
   "cell_type": "markdown",
   "metadata": {},
   "source": [
    "### Condition filtering\n",
    "\n",
    "Similar to Series, We can use boolean indexing to extract our DataFrame data subset"
   ]
  },
  {
   "cell_type": "code",
   "execution_count": 19,
   "metadata": {},
   "outputs": [
    {
     "name": "stdout",
     "output_type": "stream",
     "text": [
      "    rank discipline  phd  service     sex  salary\n",
      "0   Prof          B   56       49    Male  186960\n",
      "3   Prof          A   40       31    Male  131205\n",
      "11  Prof          B   23       23    Male  134778\n",
      "13  Prof          B   35       33    Male  162200\n",
      "14  Prof          B   25       19    Male  153750\n",
      "15  Prof          B   17        3    Male  150480\n",
      "19  Prof          A   29       27    Male  150500\n",
      "26  Prof          A   38       19    Male  148750\n",
      "27  Prof          A   45       43    Male  155865\n",
      "31  Prof          B   22       21    Male  155750\n",
      "36  Prof          B   45       45    Male  146856\n",
      "40  Prof          A   39       36  Female  137000\n",
      "44  Prof          B   23       19  Female  151768\n",
      "45  Prof          B   25       25  Female  140096\n",
      "58  Prof          B   36       26  Female  144651\n",
      "72  Prof          B   24       15  Female  161101\n"
     ]
    }
   ],
   "source": [
    "print(df[df.salary>=130000])"
   ]
  },
  {
   "cell_type": "code",
   "execution_count": 21,
   "metadata": {},
   "outputs": [
    {
     "name": "stdout",
     "output_type": "stream",
     "text": [
      "0      True\n",
      "1     False\n",
      "2     False\n",
      "3      True\n",
      "4     False\n",
      "5     False\n",
      "6     False\n",
      "7     False\n",
      "8     False\n",
      "9     False\n",
      "10    False\n",
      "11     True\n",
      "12    False\n",
      "13     True\n",
      "14     True\n",
      "15     True\n",
      "16    False\n",
      "17    False\n",
      "18    False\n",
      "19     True\n",
      "20    False\n",
      "21    False\n",
      "22    False\n",
      "23    False\n",
      "24    False\n",
      "25    False\n",
      "26     True\n",
      "27     True\n",
      "28    False\n",
      "29    False\n",
      "      ...  \n",
      "48    False\n",
      "49    False\n",
      "50    False\n",
      "51    False\n",
      "52    False\n",
      "53    False\n",
      "54    False\n",
      "55    False\n",
      "56    False\n",
      "57    False\n",
      "58     True\n",
      "59    False\n",
      "60    False\n",
      "61    False\n",
      "62    False\n",
      "63    False\n",
      "64    False\n",
      "65    False\n",
      "66    False\n",
      "67    False\n",
      "68    False\n",
      "69    False\n",
      "70    False\n",
      "71    False\n",
      "72     True\n",
      "73    False\n",
      "74    False\n",
      "75    False\n",
      "76    False\n",
      "77    False\n",
      "Name: salary, Length: 78, dtype: bool\n"
     ]
    }
   ],
   "source": [
    "print(df.salary>=130000)"
   ]
  },
  {
   "cell_type": "code",
   "execution_count": 22,
   "metadata": {},
   "outputs": [
    {
     "name": "stdout",
     "output_type": "stream",
     "text": [
      "    rank discipline  phd  service     sex  salary\n",
      "40  Prof          A   39       36  Female  137000\n",
      "44  Prof          B   23       19  Female  151768\n",
      "45  Prof          B   25       25  Female  140096\n",
      "58  Prof          B   36       26  Female  144651\n",
      "72  Prof          B   24       15  Female  161101\n"
     ]
    },
    {
     "name": "stderr",
     "output_type": "stream",
     "text": [
      "C:\\Users\\DELL\\Anaconda3\\lib\\site-packages\\ipykernel_launcher.py:1: UserWarning: Boolean Series key will be reindexed to match DataFrame index.\n",
      "  \"\"\"Entry point for launching an IPython kernel.\n"
     ]
    }
   ],
   "source": [
    "print(df[df.salary>=130000][df.sex==\"Female\"])"
   ]
  },
  {
   "cell_type": "code",
   "execution_count": 20,
   "metadata": {},
   "outputs": [
    {
     "name": "stdout",
     "output_type": "stream",
     "text": [
      "146923.2\n"
     ]
    },
    {
     "name": "stderr",
     "output_type": "stream",
     "text": [
      "C:\\Users\\DELL\\Anaconda3\\lib\\site-packages\\ipykernel_launcher.py:1: UserWarning: Boolean Series key will be reindexed to match DataFrame index.\n",
      "  \"\"\"Entry point for launching an IPython kernel.\n"
     ]
    }
   ],
   "source": [
    "print(df[df.salary>=130000][df.sex==\"Female\"].salary.mean())"
   ]
  },
  {
   "cell_type": "markdown",
   "metadata": {},
   "source": [
    "### Indexing and select data"
   ]
  },
  {
   "cell_type": "code",
   "execution_count": 25,
   "metadata": {},
   "outputs": [
    {
     "name": "stdout",
     "output_type": "stream",
     "text": [
      "         rank discipline  phd  service   sex  salary\n",
      "5        Prof          A   20       20  Male  122400\n",
      "6   AssocProf          A   20       17  Male   81285\n",
      "7        Prof          A   18       18  Male  126300\n",
      "8        Prof          A   29       19  Male   94350\n",
      "9        Prof          A   51       51  Male   57800\n",
      "10       Prof          B   39       33  Male  128250\n",
      "11       Prof          B   23       23  Male  134778\n",
      "12   AsstProf          B    1        0  Male   88000\n",
      "13       Prof          B   35       33  Male  162200\n",
      "14       Prof          B   25       19  Male  153750\n"
     ]
    }
   ],
   "source": [
    "df=pd.read_csv(\"Salaries.csv\")\n",
    "\n",
    "print(df[5:15]) #Slicing the rwos from 5 to 14"
   ]
  },
  {
   "cell_type": "code",
   "execution_count": 24,
   "metadata": {},
   "outputs": [
    {
     "name": "stdout",
     "output_type": "stream",
     "text": [
      "         rank   sex  salary\n",
      "5        Prof  Male  122400\n",
      "6   AssocProf  Male   81285\n",
      "7        Prof  Male  126300\n",
      "8        Prof  Male   94350\n",
      "9        Prof  Male   57800\n",
      "10       Prof  Male  128250\n",
      "11       Prof  Male  134778\n",
      "12   AsstProf  Male   88000\n",
      "13       Prof  Male  162200\n",
      "14       Prof  Male  153750\n",
      "15       Prof  Male  150480\n"
     ]
    }
   ],
   "source": [
    "print(df.loc[5:15,[\"rank\",\"sex\",\"salary\"]]) #Slicing the rwos from 5 to 14, column \"rank\", \"sex\" and \"salary\""
   ]
  },
  {
   "cell_type": "code",
   "execution_count": 26,
   "metadata": {},
   "outputs": [
    {
     "name": "stdout",
     "output_type": "stream",
     "text": [
      "         rank   sex  salary\n",
      "5        Prof  Male  122400\n",
      "6   AssocProf  Male   81285\n",
      "7        Prof  Male  126300\n",
      "8        Prof  Male   94350\n",
      "9        Prof  Male   57800\n",
      "10       Prof  Male  128250\n",
      "11       Prof  Male  134778\n",
      "12   AsstProf  Male   88000\n",
      "13       Prof  Male  162200\n",
      "14       Prof  Male  153750\n"
     ]
    }
   ],
   "source": [
    "print(df[5:15][[\"rank\",\"sex\",\"salary\"]])"
   ]
  },
  {
   "cell_type": "markdown",
   "metadata": {},
   "source": [
    "loc gets rows (or columns) with particular labels from the index.\n",
    "iloc gets rows (or columns) at particular positions in the index (so it only takes integers)."
   ]
  },
  {
   "cell_type": "markdown",
   "metadata": {},
   "source": [
    "### DataFrame.sort_values\n",
    "DataFrame.sort_values(by, axis=0, ascending=True, inplace=False, kind='quicksort', na_position='last', ignore_index=False, key=None)"
   ]
  },
  {
   "cell_type": "code",
   "execution_count": 29,
   "metadata": {},
   "outputs": [
    {
     "name": "stdout",
     "output_type": "stream",
     "text": [
      "         rank discipline  phd  service     sex  salary\n",
      "9        Prof          A   51       51    Male   57800\n",
      "54  AssocProf          A   25       22  Female   62884\n",
      "66   AsstProf          A    7        6  Female   63100\n",
      "71  AssocProf          B   12        9  Female   71065\n",
      "57   AsstProf          A    3        1  Female   72500\n",
      "55   AsstProf          A    2        0  Female   72500\n",
      "22   AsstProf          A    4        2    Male   73000\n",
      "64  AssocProf          A   26       24  Female   73300\n",
      "53   AsstProf          A    5        3  Female   73500\n",
      "46   AsstProf          B   11        3  Female   74692\n",
      "41  AssocProf          A   13        8  Female   74830\n",
      "16   AsstProf          B    8        3    Male   75044\n",
      "43   AsstProf          B    5        0  Female   77000\n",
      "56  AssocProf          A   10        8  Female   77500\n",
      "68   AsstProf          A    4        2  Female   77500\n",
      "70   AsstProf          A    8        3  Female   78500\n",
      "42   AsstProf          B    4        2  Female   80225\n",
      "6   AssocProf          A   20       17    Male   81285\n",
      "23   AsstProf          A    2        0    Male   85000\n",
      "12   AsstProf          B    1        0    Male   88000\n",
      "67       Prof          A   17       11  Female   90450\n",
      "38   AsstProf          B    4        3    Male   91000\n",
      "63       Prof          A   29       27  Female   91000\n",
      "24       Prof          A   30       23    Male   91100\n",
      "28   AsstProf          B    7        2    Male   91300\n",
      "60   AsstProf          B    3        3  Female   92000\n",
      "17   AsstProf          B    4        0    Male   92000\n",
      "20   AsstProf          B    4        4    Male   92000\n",
      "1        Prof          A   12        6    Male   93000\n",
      "8        Prof          A   29       19    Male   94350\n",
      "..        ...        ...  ...      ...     ...     ...\n",
      "48       Prof          B   17       17  Female  111512\n",
      "69       Prof          A   28        7  Female  116450\n",
      "65       Prof          A   36       19  Female  117555\n",
      "34  AssocProf          B   12        8    Male  119800\n",
      "33       Prof          B   18       18    Male  120000\n",
      "5        Prof          A   20       20    Male  122400\n",
      "49       Prof          B   17       18  Female  122960\n",
      "29       Prof          B   21       20    Male  123683\n",
      "75       Prof          B   17       17  Female  124312\n",
      "7        Prof          A   18       18    Male  126300\n",
      "35       Prof          B   28       23    Male  126933\n",
      "51       Prof          B   20       14  Female  127512\n",
      "10       Prof          B   39       33    Male  128250\n",
      "39       Prof          B   18       18  Female  129000\n",
      "3        Prof          A   40       31    Male  131205\n",
      "11       Prof          B   23       23    Male  134778\n",
      "40       Prof          A   39       36  Female  137000\n",
      "45       Prof          B   25       25  Female  140096\n",
      "58       Prof          B   36       26  Female  144651\n",
      "36       Prof          B   45       45    Male  146856\n",
      "26       Prof          A   38       19    Male  148750\n",
      "15       Prof          B   17        3    Male  150480\n",
      "19       Prof          A   29       27    Male  150500\n",
      "44       Prof          B   23       19  Female  151768\n",
      "14       Prof          B   25       19    Male  153750\n",
      "31       Prof          B   22       21    Male  155750\n",
      "27       Prof          A   45       43    Male  155865\n",
      "72       Prof          B   24       15  Female  161101\n",
      "13       Prof          B   35       33    Male  162200\n",
      "0        Prof          B   56       49    Male  186960\n",
      "\n",
      "[78 rows x 6 columns]\n"
     ]
    }
   ],
   "source": [
    "df=pd.read_csv(\"Salaries.csv\")\n",
    "\n",
    "df_sorted=df.sort_values(by=\"salary\")\n",
    "print(df_sorted)"
   ]
  },
  {
   "cell_type": "code",
   "execution_count": 30,
   "metadata": {},
   "outputs": [
    {
     "name": "stdout",
     "output_type": "stream",
     "text": [
      "         rank discipline  phd  service     sex  salary\n",
      "9        Prof          A   51       51    Male   57800\n",
      "54  AssocProf          A   25       22  Female   62884\n",
      "66   AsstProf          A    7        6  Female   63100\n",
      "71  AssocProf          B   12        9  Female   71065\n",
      "57   AsstProf          A    3        1  Female   72500\n",
      "55   AsstProf          A    2        0  Female   72500\n",
      "22   AsstProf          A    4        2    Male   73000\n",
      "64  AssocProf          A   26       24  Female   73300\n",
      "53   AsstProf          A    5        3  Female   73500\n",
      "46   AsstProf          B   11        3  Female   74692\n",
      "41  AssocProf          A   13        8  Female   74830\n",
      "16   AsstProf          B    8        3    Male   75044\n",
      "43   AsstProf          B    5        0  Female   77000\n",
      "56  AssocProf          A   10        8  Female   77500\n",
      "68   AsstProf          A    4        2  Female   77500\n"
     ]
    }
   ],
   "source": [
    "print(df_sorted.head(15))"
   ]
  },
  {
   "cell_type": "code",
   "execution_count": 31,
   "metadata": {},
   "outputs": [
    {
     "name": "stdout",
     "output_type": "stream",
     "text": [
      "        rank discipline  phd  service     sex  salary\n",
      "52      Prof          A   12        0  Female  105000\n",
      "17  AsstProf          B    4        0    Male   92000\n",
      "12  AsstProf          B    1        0    Male   88000\n",
      "23  AsstProf          A    2        0    Male   85000\n",
      "43  AsstProf          B    5        0  Female   77000\n",
      "55  AsstProf          A    2        0  Female   72500\n",
      "57  AsstProf          A    3        1  Female   72500\n",
      "28  AsstProf          B    7        2    Male   91300\n",
      "42  AsstProf          B    4        2  Female   80225\n",
      "68  AsstProf          A    4        2  Female   77500\n",
      "22  AsstProf          A    4        2    Male   73000\n",
      "15      Prof          B   17        3    Male  150480\n",
      "60  AsstProf          B    3        3  Female   92000\n",
      "38  AsstProf          B    4        3    Male   91000\n",
      "70  AsstProf          A    8        3  Female   78500\n"
     ]
    }
   ],
   "source": [
    "df_sorted2=df.sort_values(by=[\"service\",\"salary\"],ascending=[True,False])\n",
    "print(df_sorted2.head(15))"
   ]
  },
  {
   "cell_type": "markdown",
   "metadata": {},
   "source": [
    "\"ascending=[True,False])\", Ture means positive sequence, False means negative sequence\n",
    "\"by=[\"service\",\"salary\"]\", we fisrt sort the data according to the \"servive\", if them some datas has the same values, then we sort these datas according to the order of \"salary\". "
   ]
  },
  {
   "cell_type": "markdown",
   "metadata": {},
   "source": [
    "### pandas.DataFrame.groupby\n",
    "DataFrame.groupby(by=None, axis=0, level=None, as_index=True, sort=True, group_keys=True, squeeze=<object object>, observed=False, dropna=True) "
   ]
  },
  {
   "cell_type": "code",
   "execution_count": 33,
   "metadata": {},
   "outputs": [
    {
     "name": "stdout",
     "output_type": "stream",
     "text": [
      "<pandas.core.groupby.groupby.DataFrameGroupBy object at 0x0000020A22F068D0>\n"
     ]
    }
   ],
   "source": [
    "df=pd.read_csv(\"Salaries.csv\")\n",
    "\n",
    "df_rank=df.groupby([\"rank\"])\n",
    "print(df_rank)"
   ]
  },
  {
   "cell_type": "code",
   "execution_count": 34,
   "metadata": {},
   "outputs": [
    {
     "name": "stdout",
     "output_type": "stream",
     "text": [
      "                 phd    service         salary\n",
      "rank                                          \n",
      "AssocProf  15.076923  11.307692   91786.230769\n",
      "AsstProf    5.052632   2.210526   81362.789474\n",
      "Prof       27.065217  21.413043  123624.804348\n"
     ]
    }
   ],
   "source": [
    "print(df_rank.mean())"
   ]
  },
  {
   "cell_type": "code",
   "execution_count": null,
   "metadata": {},
   "outputs": [],
   "source": [
    "print(df_rank.count())"
   ]
  },
  {
   "cell_type": "code",
   "execution_count": null,
   "metadata": {},
   "outputs": [],
   "source": [
    "print(df_rank.median())"
   ]
  },
  {
   "cell_type": "code",
   "execution_count": 35,
   "metadata": {},
   "outputs": [
    {
     "name": "stdout",
     "output_type": "stream",
     "text": [
      "            phd                                                      salary  \\\n",
      "          count       mean        std   min    25%   50%   75%   max  count   \n",
      "rank                                                                          \n",
      "AssocProf  13.0  15.076923   5.589597   9.0  12.00  13.0  19.0  26.0   13.0   \n",
      "AsstProf   19.0   5.052632   2.738079   1.0   3.50   4.0   7.0  11.0   19.0   \n",
      "Prof       46.0  27.065217  10.185834  12.0  19.25  24.5  34.5  56.0   46.0   \n",
      "\n",
      "                          ...                       service             \\\n",
      "                    mean  ...         75%       max   count       mean   \n",
      "rank                      ...                                            \n",
      "AssocProf   91786.230769  ...   104542.00  119800.0    13.0  11.307692   \n",
      "AsstProf    81362.789474  ...    91150.00   97032.0    19.0   2.210526   \n",
      "Prof       123624.804348  ...   143512.25  186960.0    46.0  21.413043   \n",
      "\n",
      "                                                    \n",
      "                 std  min   25%   50%    75%   max  \n",
      "rank                                                \n",
      "AssocProf   5.879124  6.0   8.0   9.0  11.00  24.0  \n",
      "AsstProf    1.750522  0.0   0.5   2.0   3.00   6.0  \n",
      "Prof       11.255766  0.0  15.5  19.0  26.75  51.0  \n",
      "\n",
      "[3 rows x 24 columns]\n"
     ]
    }
   ],
   "source": [
    "print(df_rank.describe())"
   ]
  },
  {
   "cell_type": "code",
   "execution_count": 36,
   "metadata": {},
   "outputs": [
    {
     "name": "stdout",
     "output_type": "stream",
     "text": [
      "                  salary\n",
      "rank                    \n",
      "AssocProf   91786.230769\n",
      "AsstProf    81362.789474\n",
      "Prof       123624.804348\n"
     ]
    }
   ],
   "source": [
    "print(df_rank[[\"salary\"]].mean())"
   ]
  },
  {
   "cell_type": "markdown",
   "metadata": {},
   "source": [
    "### pandas.DataFrame.agg\n",
    "DataFrame.agg(func=None, axis=0, *args, **kwargs)\n",
    "\n",
    "It we want to apply more than one operations over the DataFrames, we can use agg().\n",
    "agg(), Aggregate using one or more operations over the specified axis."
   ]
  },
  {
   "cell_type": "code",
   "execution_count": 37,
   "metadata": {},
   "outputs": [
    {
     "name": "stdout",
     "output_type": "stream",
     "text": [
      "                  salary                            service             \\\n",
      "                    mean           std      skew       mean        std   \n",
      "rank                                                                     \n",
      "AssocProf   91786.230769  18571.183714 -0.151200  11.307692   5.879124   \n",
      "AsstProf    81362.789474   9381.245301  0.030504   2.210526   1.750522   \n",
      "Prof       123624.804348  24850.287853  0.070309  21.413043  11.255766   \n",
      "\n",
      "                     \n",
      "               skew  \n",
      "rank                 \n",
      "AssocProf  1.462083  \n",
      "AsstProf   0.335521  \n",
      "Prof       0.759933  \n"
     ]
    }
   ],
   "source": [
    "print(df_rank[[\"salary\",\"service\"]].agg([\"mean\",\"std\",\"skew\"]))"
   ]
  },
  {
   "cell_type": "code",
   "execution_count": 38,
   "metadata": {},
   "outputs": [
    {
     "name": "stdout",
     "output_type": "stream",
     "text": [
      "min        57800.000000\n",
      "max       186960.000000\n",
      "mean      108023.782051\n",
      "median    104671.000000\n",
      "Name: salary, dtype: float64\n",
      "0    Prof\n",
      "dtype: object\n",
      "        salary   service\n",
      "skew  0.452103  0.913750\n",
      "kurt -0.401713  0.608981\n"
     ]
    }
   ],
   "source": [
    "df=pd.read_csv(\"Salaries.csv\")\n",
    "\n",
    "print(df.salary.agg([\"min\",\"max\",\"mean\",\"median\"]))\n",
    "\n",
    "\n",
    "print(df[\"rank\"].agg(\"mode\"))  #Get the mode(s)(最頻値) of each element along the selected axis\n",
    "print(df[[\"salary\",\"service\"]].agg([\"skew\",\"kurt\"])) #歪度(Skewness)と尖度(Kurtosis)"
   ]
  },
  {
   "cell_type": "markdown",
   "metadata": {},
   "source": [
    "### pandas.pivot_table\n",
    "pandas.pivot_table(data, values=None, index=None, columns=None, aggfunc='mean', fill_value=None, margins=False, dropna=True, margins_name='All', observed=False)\n",
    "\n",
    "pandas.pivot_table()関数を使うと、Excelなどの表計算ソフトのピボットテーブル機能と同様の処理が実現できる。\n",
    "\n",
    "カテゴリデータ（カテゴリカルデータ、質的データ）のカテゴリごとにグルーピング（グループ分け）して量的データの統計量（平均、合計、最大、最小、標準偏差など）を確認・分析することが可能。便利\n",
    "pandas.pivot_table() has the similar funciton as the pivot table in excel. "
   ]
  },
  {
   "cell_type": "code",
   "execution_count": 39,
   "metadata": {},
   "outputs": [
    {
     "name": "stdout",
     "output_type": "stream",
     "text": [
      "                 phd         salary    service\n",
      "rank                                          \n",
      "AssocProf  15.076923   91786.230769  11.307692\n",
      "AsstProf    5.052632   81362.789474   2.210526\n",
      "Prof       27.065217  123624.804348  21.413043\n"
     ]
    }
   ],
   "source": [
    "df=pd.read_csv(\"Salaries.csv\")\n",
    "\n",
    "print(pd.pivot_table(df,index=[\"rank\"])) #Defalut functino of pivot_table: addgunc='mean'"
   ]
  },
  {
   "cell_type": "code",
   "execution_count": 40,
   "metadata": {},
   "outputs": [
    {
     "name": "stdout",
     "output_type": "stream",
     "text": [
      "                 phd         salary    service\n",
      "rank                                          \n",
      "AssocProf  15.076923   91786.230769  11.307692\n",
      "AsstProf    5.052632   81362.789474   2.210526\n",
      "Prof       27.065217  123624.804348  21.413043\n"
     ]
    }
   ],
   "source": [
    "print(df.pivot_table(index=[\"rank\"])) #Defalut functino of pivot_table: addgunc='mean'"
   ]
  },
  {
   "cell_type": "code",
   "execution_count": 43,
   "metadata": {},
   "outputs": [
    {
     "name": "stdout",
     "output_type": "stream",
     "text": [
      "            phd   salary  service\n",
      "rank                             \n",
      "AssocProf   196  1193221      147\n",
      "AsstProf     96  1545893       42\n",
      "Prof       1245  5686741      985\n"
     ]
    }
   ],
   "source": [
    "print(df.pivot_table(index=[\"rank\"],aggfunc=np.sum)) #Defalut functino of pivot_table: addgunc='mean'"
   ]
  },
  {
   "cell_type": "code",
   "execution_count": 41,
   "metadata": {},
   "outputs": [
    {
     "name": "stdout",
     "output_type": "stream",
     "text": [
      "                        phd         salary    service\n",
      "rank      sex                                        \n",
      "AssocProf Female  15.500000   88512.800000  11.500000\n",
      "          Male    13.666667  102697.666667  10.666667\n",
      "AsstProf  Female   5.636364   78049.909091   2.545455\n",
      "          Male     4.250000   85918.000000   1.750000\n",
      "Prof      Female  23.722222  121967.611111  17.111111\n",
      "          Male    29.214286  124690.142857  24.178571\n"
     ]
    }
   ],
   "source": [
    "print(df.pivot_table(index=[\"rank\",\"sex\"]))"
   ]
  },
  {
   "cell_type": "code",
   "execution_count": 44,
   "metadata": {},
   "outputs": [
    {
     "name": "stdout",
     "output_type": "stream",
     "text": [
      "                 phd                    salary                   service  \\\n",
      "sex           Female       Male         Female           Male     Female   \n",
      "rank                                                                       \n",
      "AssocProf  15.500000  13.666667   88512.800000  102697.666667  11.500000   \n",
      "AsstProf    5.636364   4.250000   78049.909091   85918.000000   2.545455   \n",
      "Prof       23.722222  29.214286  121967.611111  124690.142857  17.111111   \n",
      "\n",
      "                      \n",
      "sex             Male  \n",
      "rank                  \n",
      "AssocProf  10.666667  \n",
      "AsstProf    1.750000  \n",
      "Prof       24.178571  \n"
     ]
    }
   ],
   "source": [
    "print(df.pivot_table(index=[\"rank\",\"sex\"]).unstack())"
   ]
  },
  {
   "cell_type": "markdown",
   "metadata": {},
   "source": [
    "### pandas.DataFrame.unstack & pandas.DataFrame.stack\n",
    "DataFrame.unstack(level=- 1, fill_value=None)\n",
    "\n",
    "DataFrame.stack(level=- 1, dropna=True) \n",
    "\n",
    "unstack(), Returns a DataFrame having a new level of column labels whose inner-most level consists of the pivoted index labels.\n",
    "\n",
    "stack(), in opposite, Return a reshaped DataFrame or Series having a multi-level index with one or more new inner-most levels compared to the current DataFrame. The new inner-most levels are created by pivoting the columns of the current dataframe.\n",
    "\n",
    "so if we unstack and then stack a pivot_table, the pivot_table will go beck to original form(no changes)"
   ]
  },
  {
   "cell_type": "code",
   "execution_count": 45,
   "metadata": {},
   "outputs": [
    {
     "name": "stdout",
     "output_type": "stream",
     "text": [
      "                        phd         salary    service\n",
      "rank      sex                                        \n",
      "AssocProf Female  15.500000   88512.800000  11.500000\n",
      "          Male    13.666667  102697.666667  10.666667\n",
      "AsstProf  Female   5.636364   78049.909091   2.545455\n",
      "          Male     4.250000   85918.000000   1.750000\n",
      "Prof      Female  23.722222  121967.611111  17.111111\n",
      "          Male    29.214286  124690.142857  24.178571\n"
     ]
    }
   ],
   "source": [
    "print(df.pivot_table(index=[\"rank\",\"sex\"]).unstack().stack())"
   ]
  },
  {
   "cell_type": "code",
   "execution_count": 46,
   "metadata": {},
   "outputs": [
    {
     "name": "stdout",
     "output_type": "stream",
     "text": [
      "                         salary\n",
      "rank      sex                  \n",
      "AssocProf Female   88512.800000\n",
      "          Male    102697.666667\n",
      "AsstProf  Female   78049.909091\n",
      "          Male     85918.000000\n",
      "Prof      Female  121967.611111\n",
      "          Male    124690.142857\n"
     ]
    }
   ],
   "source": [
    "print(df.pivot_table(index=[\"rank\",\"sex\"],values=[\"salary\"])) # 'values',column to aggregate, optional"
   ]
  },
  {
   "cell_type": "code",
   "execution_count": 47,
   "metadata": {},
   "outputs": [
    {
     "name": "stdout",
     "output_type": "stream",
     "text": [
      "                         salary    service\n",
      "rank      sex                             \n",
      "AssocProf Female   88512.800000  11.500000\n",
      "          Male    102697.666667  10.666667\n",
      "AsstProf  Female   78049.909091   2.545455\n",
      "          Male     85918.000000   1.750000\n",
      "Prof      Female  121967.611111  17.111111\n",
      "          Male    124690.142857  24.178571\n"
     ]
    }
   ],
   "source": [
    "print(df.pivot_table(index=[\"rank\",\"sex\"],values=[\"salary\",\"service\"]))"
   ]
  },
  {
   "cell_type": "code",
   "execution_count": 48,
   "metadata": {},
   "outputs": [
    {
     "name": "stdout",
     "output_type": "stream",
     "text": [
      "                           mean                 sum        \n",
      "                         salary    service   salary service\n",
      "rank      sex                                              \n",
      "AssocProf Female   88512.800000  11.500000   885128     115\n",
      "          Male    102697.666667  10.666667   308093      32\n",
      "AsstProf  Female   78049.909091   2.545455   858549      28\n",
      "          Male     85918.000000   1.750000   687344      14\n",
      "Prof      Female  121967.611111  17.111111  2195417     308\n",
      "          Male    124690.142857  24.178571  3491324     677\n"
     ]
    }
   ],
   "source": [
    "print(df.pivot_table(index=[\"rank\",\"sex\"],values=[\"salary\",\"service\"],aggfunc=[\"mean\",\"sum\"]))"
   ]
  },
  {
   "cell_type": "markdown",
   "metadata": {},
   "source": [
    "### pandas.DataFrame.fillna\n",
    "DataFrame.fillna(value=None, method=None, axis=None, inplace=False, limit=None, downcast=None) \n",
    "\n",
    "The fillna() function is used to fill NA/NaN values using the specified method."
   ]
  },
  {
   "cell_type": "code",
   "execution_count": 51,
   "metadata": {},
   "outputs": [
    {
     "name": "stdout",
     "output_type": "stream",
     "text": [
      "shape (891, 12)\n",
      "------------\n",
      "<class 'pandas.core.frame.DataFrame'>\n",
      "RangeIndex: 891 entries, 0 to 890\n",
      "Data columns (total 12 columns):\n",
      "PassengerId    891 non-null int64\n",
      "Survived       891 non-null int64\n",
      "Pclass         891 non-null int64\n",
      "Name           891 non-null object\n",
      "Sex            891 non-null object\n",
      "Age            714 non-null float64\n",
      "SibSp          891 non-null int64\n",
      "Parch          891 non-null int64\n",
      "Ticket         891 non-null object\n",
      "Fare           891 non-null float64\n",
      "Cabin          204 non-null object\n",
      "Embarked       889 non-null object\n",
      "dtypes: float64(2), int64(5), object(5)\n",
      "memory usage: 83.6+ KB\n",
      "None\n",
      "------------\n",
      "       PassengerId    Survived      Pclass         Age       SibSp  \\\n",
      "count   891.000000  891.000000  891.000000  714.000000  891.000000   \n",
      "mean    446.000000    0.383838    2.308642   29.699118    0.523008   \n",
      "std     257.353842    0.486592    0.836071   14.526497    1.102743   \n",
      "min       1.000000    0.000000    1.000000    0.420000    0.000000   \n",
      "25%     223.500000    0.000000    2.000000   20.125000    0.000000   \n",
      "50%     446.000000    0.000000    3.000000   28.000000    0.000000   \n",
      "75%     668.500000    1.000000    3.000000   38.000000    1.000000   \n",
      "max     891.000000    1.000000    3.000000   80.000000    8.000000   \n",
      "\n",
      "            Parch        Fare  \n",
      "count  891.000000  891.000000  \n",
      "mean     0.381594   32.204208  \n",
      "std      0.806057   49.693429  \n",
      "min      0.000000    0.000000  \n",
      "25%      0.000000    7.910400  \n",
      "50%      0.000000   14.454200  \n",
      "75%      0.000000   31.000000  \n",
      "max      6.000000  512.329200  \n",
      "------------\n",
      "PassengerId      0\n",
      "Survived         0\n",
      "Pclass           0\n",
      "Name             0\n",
      "Sex              0\n",
      "Age            177\n",
      "SibSp            0\n",
      "Parch            0\n",
      "Ticket           0\n",
      "Fare             0\n",
      "Cabin          687\n",
      "Embarked         2\n",
      "dtype: int64\n"
     ]
    }
   ],
   "source": [
    "train_df=pd.read_csv(\"train.csv\")\n",
    "print(\"shape\",train_df.shape)\n",
    "print(\"------------\")\n",
    "print(train_df.info())\n",
    "print(\"------------\")\n",
    "print(train_df.describe())\n",
    "print(\"------------\")\n",
    "print(train_df.isnull().sum())"
   ]
  },
  {
   "cell_type": "code",
   "execution_count": 52,
   "metadata": {},
   "outputs": [
    {
     "name": "stdout",
     "output_type": "stream",
     "text": [
      "PassengerId      0\n",
      "Pclass           0\n",
      "Name             0\n",
      "Sex              0\n",
      "Age             86\n",
      "SibSp            0\n",
      "Parch            0\n",
      "Ticket           0\n",
      "Fare             1\n",
      "Cabin          327\n",
      "Embarked         0\n",
      "dtype: int64\n"
     ]
    }
   ],
   "source": [
    "test_df=pd.read_csv(\"test.csv\")\n",
    "print(test_df.isnull().sum())"
   ]
  },
  {
   "cell_type": "code",
   "execution_count": 53,
   "metadata": {},
   "outputs": [
    {
     "name": "stdout",
     "output_type": "stream",
     "text": [
      "PassengerId       0\n",
      "Survived        418\n",
      "Pclass            0\n",
      "Name              0\n",
      "Sex               0\n",
      "Age             263\n",
      "SibSp             0\n",
      "Parch             0\n",
      "Ticket            0\n",
      "Fare              1\n",
      "Cabin          1014\n",
      "Embarked          2\n",
      "dtype: int64\n"
     ]
    }
   ],
   "source": [
    "full_df=pd.concat([train_df,test_df],ignore_index=True,sort=False)\n",
    "print(full_df.isnull().sum())"
   ]
  },
  {
   "cell_type": "code",
   "execution_count": 55,
   "metadata": {},
   "outputs": [
    {
     "name": "stdout",
     "output_type": "stream",
     "text": [
      "PassengerId       0\n",
      "Survived        418\n",
      "Pclass            0\n",
      "Name              0\n",
      "Sex               0\n",
      "Age               0\n",
      "SibSp             0\n",
      "Parch             0\n",
      "Ticket            0\n",
      "Fare              1\n",
      "Cabin          1014\n",
      "Embarked          2\n",
      "dtype: int64\n"
     ]
    }
   ],
   "source": [
    "full_df['Age'].fillna(999,inplace=True)\n",
    "print(full_df.isnull().sum())"
   ]
  },
  {
   "cell_type": "code",
   "execution_count": 56,
   "metadata": {},
   "outputs": [],
   "source": [
    "train_clean=full_df[full_df['Survived'].notnull()]\n",
    "test_clean=full_df[full_df['Survived'].isnull()]\n",
    "train_clean.to_csv('train_clean.csv')\n",
    "test_clean.to_csv('test_clean.csv')"
   ]
  },
  {
   "cell_type": "markdown",
   "metadata": {},
   "source": [
    "# What is the essence of Pandas? Matryoshka doll(マトリョーシカ人形)."
   ]
  },
  {
   "cell_type": "markdown",
   "metadata": {},
   "source": [
    "# Homework\n",
    "\n",
    "data.csv is an user power consumption data set, there are in total 200 users in the data, DATA_DATE represents the time,for example, 2015/1/1 means January 1, 2015, and KWH means electricity consumption.\n",
    "\n",
    "1. Transpose the data in data.csv. Please refer to the file \"eg.csv\" for the transposed data. Replace the missing values with \"NAN\".\n",
    "\n",
    "2. Identify the abnormal datas and replace them with \"NA\". (When the absolute value of the difference between the value of a data and the mean value of the total is greater than three times the standard deviation of the dataset, we consider this data to be an abnormal data)\n",
    "\n",
    "3. Calculate the basic statistics of each user's electricity consumption data, basic statistics including maximum, minimum, mean, median, sum, variance, skewness, and kurtosis (excluding null values).\n",
    "\n",
    "4. Differentiate the electricity consumption data of each user by day, and calculate the basic statistics of the result after difference, the statistics are the same as the third question. (\"Differentiate by day means\", for example, second day's data-first day's data=difference data between second day and first day)\n",
    "\n",
    "5. Calculate the median of 5% of each user's electricity consumption data。\n",
    "\n",
    "6. Please sum the electricity consumption data of each user by week first and then calculate the difference data of them, and calculate the basic statistics of the difference result, the statistics are the same as the third question.(Difference by week means, for example, sum of the second week's data-sum of the first day's data)\n",
    "\n",
    "7. Each user has the maximum  electricity consumption in a specific period of time, count the number of days when the electricity consumption data is greater than the \"0.9* maximum electricity consumption\".\n",
    "\n",
    "8. Taking the electricity consumption data of each user in July and August as a batch of statistical samples, and the electricity consumption data in March and April as another batch of statistical samples, calculate the ratio of the total sum between the two batches of samples, the ratio of the mean value between two batches. the ratio of the maximum value between two batches, the ratio of the minimum value between two batches\n",
    "\n",
    "9. Combine the statistical results of Question 3, Question 4 and Question 6 together and put yhem into one single DataFrame.\n",
    "\n"
   ]
  },
  {
   "cell_type": "markdown",
   "metadata": {},
   "source": [
    "### Hint\n",
    "\n",
    "1. when you read the cvs file, use the command:\n",
    "\n",
    "   pd.read_csv('data.csv',parse_dates=True,index_col=[0,1])\n",
    "\n",
    "   \"parse_dates=True\"  can convert the index type into TIME type data, this can help you solve the question 4 and question 6 eaiser. \n",
    "\n",
    "2. Try to solve the question 4 by using [ pandas.DataFrame.diff ]\n",
    "\n",
    "3. For question 5, try the [ pandas.DataFrame.quantile ]\n",
    "\n",
    "4. For question 6, try the command\n",
    "\n",
    "   df.groupby(df.columns.week,axis=1)\n",
    "\n",
    "   to group the data in the same week together and then do the sum operation. \n"
   ]
  },
  {
   "cell_type": "markdown",
   "metadata": {},
   "source": [
    "### Requirement:\n",
    "\n",
    "1. Submit the homework to the email: weiinbham@outlook.com.\n",
    "   \n",
    "2. The email title has to be: Pandas_homework_\"Your name\". \n",
    "\n",
    "3. You are required to submit two files, First one is the python file, you should put the all codes into one python file. The second one is the answer of the hmoework, in word file or pdf file. You can output the answer by using print() first anf then copy them to the word file.\n",
    "\n",
    "4. In the python file ,use comment # or ''' to write the question number, also in the word, divide your answer by using question number like Q1, Q2, so I can clearly know which question you are answering. \n",
    "\n",
    "5. Submission deadline is: 2020, October, 07th, 13:29:59 in Tokyo time. (Before the second week's ZEMI).\n",
    "\n",
    "6. If you have any question, feel free to ask me by sending email to: weiinbham@outlook.com."
   ]
  },
  {
   "cell_type": "code",
   "execution_count": null,
   "metadata": {},
   "outputs": [],
   "source": []
  }
 ],
 "metadata": {
  "kernelspec": {
   "display_name": "Python 3",
   "language": "python",
   "name": "python3"
  },
  "language_info": {
   "codemirror_mode": {
    "name": "ipython",
    "version": 3
   },
   "file_extension": ".py",
   "mimetype": "text/x-python",
   "name": "python",
   "nbconvert_exporter": "python",
   "pygments_lexer": "ipython3",
   "version": "3.7.1"
  }
 },
 "nbformat": 4,
 "nbformat_minor": 2
}
