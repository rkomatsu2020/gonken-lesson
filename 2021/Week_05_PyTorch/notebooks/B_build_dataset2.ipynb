{
 "cells": [
  {
   "cell_type": "code",
   "execution_count": 1,
   "metadata": {},
   "outputs": [],
   "source": [
    "import pandas as pd\n",
    "import os\n",
    "import numpy as np\n",
    "from PIL import Image "
   ]
  },
  {
   "cell_type": "code",
   "execution_count": 2,
   "metadata": {},
   "outputs": [],
   "source": [
    "def min_max(x, axis=None, mean0=False, get_param=False):\n",
    "    min = x.min(axis=axis, keepdims=True)\n",
    "    max = x.max(axis=axis, keepdims=True)\n",
    "    result = (x-min)/(max-min+1e-8)\n",
    "    if mean0 :\n",
    "        result = result*2 - 1\n",
    "    if get_param:\n",
    "        return result, min, max\n",
    "    return result\n",
    "def image_from_numpy(output):\n",
    "    image_list = []\n",
    "    for i in range(output.shape[0]):\n",
    "        a = output[i]\n",
    "        a = np.tile(np.transpose(a, axes=(1,2,0)), (1,1,int(3/a.shape[0])))\n",
    "        a = min_max(a)*2**8 \n",
    "        a[a>255] = 255\n",
    "        a = np.uint8(a)\n",
    "        a = Image.fromarray(a)\n",
    "        image_list.append(a)\n",
    "    return image_list"
   ]
  },
  {
   "cell_type": "code",
   "execution_count": 3,
   "metadata": {},
   "outputs": [],
   "source": [
    "data = pd.read_csv(\"../archive/fashion-mnist_train.csv\")"
   ]
  },
  {
   "cell_type": "code",
   "execution_count": 11,
   "metadata": {},
   "outputs": [],
   "source": [
    "images = data.drop(columns=[\"label\"]).values\n",
    "images = images.reshape(-1, 28, 28)\n",
    "labels = data[\"label\"].values\n",
    "class_labels = [\"T-shirt/top\", \"Trouser\", \"Pullover\", \"Dress\", \"Coat\", \"Sandal\", \"Shirt\", \"Sneaker\", \"Bag\", \"Ankle_boot\"]"
   ]
  },
  {
   "cell_type": "code",
   "execution_count": 12,
   "metadata": {},
   "outputs": [],
   "source": [
    "classes = list(range(10))"
   ]
  },
  {
   "cell_type": "code",
   "execution_count": 13,
   "metadata": {},
   "outputs": [],
   "source": [
    "dataset_dir = \"../fashion_dataset2/\"\n",
    "\n",
    "os.makedirs(dataset_dir, exist_ok=True)\n",
    "for i in classes:\n",
    "    path = dataset_dir + class_labels[i]\n",
    "    os.makedirs(path, exist_ok=True)"
   ]
  },
  {
   "cell_type": "code",
   "execution_count": 15,
   "metadata": {},
   "outputs": [
    {
     "name": "stdout",
     "output_type": "stream",
     "text": [
      "0\n",
      "1\n",
      "2\n",
      "3\n",
      "4\n",
      "5\n",
      "6\n",
      "7\n",
      "8\n",
      "9\n"
     ]
    }
   ],
   "source": [
    "for i in classes:\n",
    "    print(i)\n",
    "    image_list = image_from_numpy(np.reshape(images[labels==i], (-1,1,28,28)))\n",
    "    for j in range(2000):\n",
    "        path = f\"{dataset_dir}{class_labels[i]}/{i}_{str(j).zfill(4)}.png\"\n",
    "        img = image_list[j]\n",
    "        img.save(path, format=\"png\")"
   ]
  },
  {
   "cell_type": "markdown",
   "metadata": {},
   "source": [
    "- 1st Homework\n",
    "    - training with dirty dataset\n",
    "- 2nd Homework\n",
    "    - dataset\n",
    "        - dataset consists some classes which are not included in training\n",
    "        - folders are named with the class label\n",
    "    - Model Structure\n",
    "        - Model with Residual Structures"
   ]
  },
  {
   "cell_type": "code",
   "execution_count": null,
   "metadata": {},
   "outputs": [],
   "source": []
  }
 ],
 "metadata": {
  "kernelspec": {
   "display_name": "Python 3",
   "language": "python",
   "name": "python3"
  },
  "language_info": {
   "codemirror_mode": {
    "name": "ipython",
    "version": 3
   },
   "file_extension": ".py",
   "mimetype": "text/x-python",
   "name": "python",
   "nbconvert_exporter": "python",
   "pygments_lexer": "ipython3",
   "version": "3.6.9"
  }
 },
 "nbformat": 4,
 "nbformat_minor": 4
}
