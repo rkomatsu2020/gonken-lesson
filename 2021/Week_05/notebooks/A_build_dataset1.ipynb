{
 "cells": [
  {
   "cell_type": "code",
   "execution_count": 14,
   "metadata": {},
   "outputs": [],
   "source": [
    "import pandas as pd\n",
    "import os\n",
    "import numpy as np\n",
    "from PIL import Image "
   ]
  },
  {
   "cell_type": "code",
   "execution_count": 9,
   "metadata": {},
   "outputs": [],
   "source": [
    "def min_max(x, axis=None, mean0=False, get_param=False):\n",
    "    min = x.min(axis=axis, keepdims=True)\n",
    "    max = x.max(axis=axis, keepdims=True)\n",
    "    result = (x-min)/(max-min+1e-8)\n",
    "    if mean0 :\n",
    "        result = result*2 - 1\n",
    "    if get_param:\n",
    "        return result, min, max\n",
    "    return result\n",
    "def image_from_numpy(output):\n",
    "    image_list = []\n",
    "    for i in range(output.shape[0]):\n",
    "        a = output[i]\n",
    "        a = np.tile(np.transpose(a, axes=(1,2,0)), (1,1,int(3/a.shape[0])))\n",
    "        a = min_max(a)*2**8 \n",
    "        a[a>255] = 255\n",
    "        a = np.uint8(a)\n",
    "        a = Image.fromarray(a)\n",
    "        image_list.append(a)\n",
    "    return image_list"
   ]
  },
  {
   "cell_type": "code",
   "execution_count": 10,
   "metadata": {},
   "outputs": [],
   "source": [
    "data = pd.read_csv(\"archive/fashion-mnist_train.csv\")"
   ]
  },
  {
   "cell_type": "code",
   "execution_count": 17,
   "metadata": {},
   "outputs": [],
   "source": [
    "images = data.drop(columns=[\"label\"]).values\n",
    "images = images.reshape(-1, 28, 28)\n",
    "labels = data[\"label\"].values"
   ]
  },
  {
   "cell_type": "code",
   "execution_count": 12,
   "metadata": {},
   "outputs": [],
   "source": [
    "classes = range(10)"
   ]
  },
  {
   "cell_type": "code",
   "execution_count": 15,
   "metadata": {},
   "outputs": [],
   "source": [
    "dataset_dir = \"../fashion_dataset1/\"\n",
    "os.makedirs(dataset_dir, exist_ok=True)\n",
    "for i in classes:\n",
    "    path = dataset_dir + str(i) \n",
    "    os.makedirs(path, exist_ok=True)"
   ]
  },
  {
   "cell_type": "code",
   "execution_count": 18,
   "metadata": {},
   "outputs": [
    {
     "name": "stdout",
     "output_type": "stream",
     "text": [
      "0\n",
      "1\n",
      "2\n",
      "3\n",
      "4\n",
      "5\n",
      "6\n",
      "7\n",
      "8\n",
      "9\n"
     ]
    }
   ],
   "source": [
    "for label in classes:\n",
    "    print(label)\n",
    "    image_list = image_from_numpy(np.reshape(images[labels==label], (-1,1,28,28)))\n",
    "    for i in range(len(image_list)):\n",
    "        path = f\"{dataset_dir}{label}/{label}_{str(i).zfill(4)}.png\"\n",
    "        img = image_list[i]\n",
    "        img.save(path, format=\"png\")"
   ]
  },
  {
   "cell_type": "code",
   "execution_count": null,
   "metadata": {},
   "outputs": [],
   "source": []
  },
  {
   "cell_type": "code",
   "execution_count": null,
   "metadata": {},
   "outputs": [],
   "source": []
  }
 ],
 "metadata": {
  "kernelspec": {
   "display_name": "Python 3",
   "language": "python",
   "name": "python3"
  },
  "language_info": {
   "codemirror_mode": {
    "name": "ipython",
    "version": 3
   },
   "file_extension": ".py",
   "mimetype": "text/x-python",
   "name": "python",
   "nbconvert_exporter": "python",
   "pygments_lexer": "ipython3",
   "version": "3.8.5"
  }
 },
 "nbformat": 4,
 "nbformat_minor": 4
}
