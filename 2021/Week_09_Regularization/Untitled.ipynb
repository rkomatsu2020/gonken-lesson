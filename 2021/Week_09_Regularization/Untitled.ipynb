{
 "cells": [
  {
   "cell_type": "code",
   "execution_count": 194,
   "metadata": {},
   "outputs": [],
   "source": [
    "import torch\n",
    "import torch.nn as nn\n",
    "import torch.nn.functional as F\n",
    "import torchvision.transforms.functional as vF\n",
    "import numpy as np\n",
    "import torchvision"
   ]
  },
  {
   "cell_type": "code",
   "execution_count": 156,
   "metadata": {},
   "outputs": [],
   "source": [
    "def pil_to_float(image):\n",
    "    return vF.convert_image_dtype(vF.pil_to_tensor(image), torch.float32)"
   ]
  },
  {
   "cell_type": "code",
   "execution_count": 514,
   "metadata": {},
   "outputs": [
    {
     "data": {
      "text/plain": [
       "'00005'"
      ]
     },
     "execution_count": 514,
     "metadata": {},
     "output_type": "execute_result"
    }
   ],
   "source": [
    "'{:05}'.format(5)"
   ]
  },
  {
   "cell_type": "raw",
   "metadata": {},
   "source": [
    "import pandas as pd\n",
    "import cv2\n",
    "df = pd.read_csv('./dataset/train.csv')\n",
    "df = df.loc[(df.label==5) | (df.label==6) | (df.label==8)]\n",
    "np.save('./dataset/labels.npy', df.label.to_numpy())\n",
    "for i,index in enumerate(df.index):\n",
    "    cv2.imwrite('./dataset/images/'+str(i)+'.png', df.loc[index, 'pixel0':].to_numpy().reshape((28,28)))"
   ]
  },
  {
   "cell_type": "code",
   "execution_count": 459,
   "metadata": {},
   "outputs": [],
   "source": [
    "class BasicModel(nn.Module):\n",
    "    def __init__(self):\n",
    "        super(BasicModel, self).__init__()\n",
    "        self.c1 = nn.Conv2d(1, 9, (3,3), padding=(1,1))\n",
    "        self.p1 = nn.MaxPool2d(2, stride=2)\n",
    "        self.c2 = nn.Conv2d(9, 16, (3,3), padding=(1,1))\n",
    "        self.p2 = nn.MaxPool2d(2, stride=2)\n",
    "        self.l1 = nn.Linear(7*7*16, 32)\n",
    "        self.l2 = nn.Linear(32, 10)\n",
    "        \n",
    "    def forward(self, x):\n",
    "        h = F.relu(self.c1(x))\n",
    "        h = self.p1(h)\n",
    "        h = F.relu(self.c2(h))\n",
    "        h = self.p2(h)\n",
    "        h = h.view(-1, 7*7*16)\n",
    "        h = F.relu(self.l1(h))\n",
    "        h = F.relu(self.l2(h))\n",
    "        y = F.softmax(h, dim=1)\n",
    "        return y"
   ]
  },
  {
   "cell_type": "code",
   "execution_count": 460,
   "metadata": {},
   "outputs": [],
   "source": [
    "MAX_EPOCH = 3\n",
    "LR = 0.01"
   ]
  },
  {
   "cell_type": "code",
   "execution_count": 461,
   "metadata": {},
   "outputs": [],
   "source": [
    "criterion = nn.CrossEntropyLoss().cuda()\n",
    "model = BasicModel().cuda()\n",
    "optimizer = torch.optim.SGD(model.parameters(), lr=LR, momentum=0.9)\n",
    "scheduler = torch.optim.lr_scheduler.LambdaLR(optimizer, lambda epoch: 0.95**epoch)"
   ]
  },
  {
   "cell_type": "raw",
   "metadata": {},
   "source": [
    "model = nn.Sequential(\n",
    "    nn.Flatten(),\n",
    "    nn.Linear(28*28, 32),\n",
    "    nn.ReLU(),\n",
    "    nn.Linear(32, 10),\n",
    "    nn.ReLU(),\n",
    "    nn.Softmax()\n",
    ")\n",
    "model = model.cuda()\n",
    "optimizer = torch.optim.SGD(model.parameters(), lr=LR, momentum=0.9)\n",
    "optimizer = torch.optim.SGD(model.parameters(), lr=LR, momentum=0.9)"
   ]
  },
  {
   "cell_type": "code",
   "execution_count": 462,
   "metadata": {},
   "outputs": [
    {
     "name": "stdout",
     "output_type": "stream",
     "text": [
      "2, 1.6447941064834595\r"
     ]
    }
   ],
   "source": [
    "for epoch in range(MAX_EPOCH):\n",
    "    for x, y in dataloader_train:\n",
    "#         zero buffers\n",
    "        optimizer.zero_grad() \n",
    "#         forward propagation\n",
    "        prediction = model(x.cuda())\n",
    "        \n",
    "        loss = criterion(prediction, y.cuda())\n",
    "        \n",
    "#         gradient calculation\n",
    "        loss.backward()\n",
    "#         parameter update\n",
    "        optimizer.step() \n",
    "    \n",
    "    print('{}, {}'.format(epoch, loss), end='\\r')\n",
    "    scheduler.step()"
   ]
  },
  {
   "cell_type": "code",
   "execution_count": 463,
   "metadata": {},
   "outputs": [
    {
     "name": "stdout",
     "output_type": "stream",
     "text": [
      "0.8279\n"
     ]
    }
   ],
   "source": [
    "c = 0 \n",
    "w = 0\n",
    "for x, y in dataset_test:\n",
    "    if model(x[None,...].cuda()).argmax()==y:\n",
    "        c += 1\n",
    "    else:\n",
    "        w -= -1\n",
    "print(c/(c+w))"
   ]
  },
  {
   "cell_type": "code",
   "execution_count": 430,
   "metadata": {},
   "outputs": [],
   "source": [
    "import matplotlib.pyplot as plt\n",
    "import seaborn as sns\n",
    "sns.set()"
   ]
  }
 ],
 "metadata": {
  "kernelspec": {
   "display_name": "Python 3",
   "language": "python",
   "name": "python3"
  },
  "language_info": {
   "codemirror_mode": {
    "name": "ipython",
    "version": 3
   },
   "file_extension": ".py",
   "mimetype": "text/x-python",
   "name": "python",
   "nbconvert_exporter": "python",
   "pygments_lexer": "ipython3",
   "version": "3.8.5"
  }
 },
 "nbformat": 4,
 "nbformat_minor": 4
}
